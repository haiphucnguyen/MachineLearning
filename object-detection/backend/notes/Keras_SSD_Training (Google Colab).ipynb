{
  "nbformat": 4,
  "nbformat_minor": 0,
  "metadata": {
    "colab": {
      "name": "Keras SSD Training.ipynb",
      "version": "0.3.2",
      "provenance": [],
      "collapsed_sections": [],
      "toc_visible": true
    },
    "kernelspec": {
      "name": "python3",
      "display_name": "Python 3"
    },
    "accelerator": "GPU"
  },
  "cells": [
    {
      "cell_type": "markdown",
      "metadata": {
        "id": "ominbI4qICAm",
        "colab_type": "text"
      },
      "source": [
        "Object Detection by using Keras\n",
        "-----------------\n",
        "\n",
        "The SSD (Single Shot Detector) is the best candidate compares with Fast R-CNN or Yolo compromising the accuracy, speed, and detect the small objects. \n",
        "\n",
        "In Tensorflow, it has the default object detection library using the SSD and it works great. However, the Tensorflow does not expose the training process, and there is no way to manage the model hyper parameters, so we decided to use the Keras and the open source SSD implementation for Keras https://github.com/pierluigiferrari/ssd_keras, which allows us can customize the model hyper parameters, and explore the API easier.\n",
        "\n",
        "\n",
        "We use two datasets PASCAL VOC 2007 and PASCAL VOC 2012. This notebook is written to run on Google Colab which provides us the great GPU processing that we can not have in our Macbook! \n",
        "\n",
        "\n",
        "References\n",
        "--------------------\n",
        "\n",
        "1. [Github - A Keras port of Single Shot MultiBox Detector](https://github.com/pierluigiferrari/ssd_keras)\n",
        "\n",
        "2. [Transfer Learning using Mobilenet and Keras](https://towardsdatascience.com/transfer-learning-using-mobilenet-and-keras-c75daf7ff299)\n",
        "\n",
        "3. [How to Use The Pre-Trained VGG Model to Classify Objects in Photographs](https://machinelearningmastery.com/use-pre-trained-vgg-model-classify-objects-photographs/)\n",
        "\n",
        "4. [Transfer learning & The art of using Pre-trained Models in Deep Learning](https://www.analyticsvidhya.com/blog/2017/06/transfer-learning-the-art-of-fine-tuning-a-pre-trained-model/)\n",
        "\n",
        "5. [Review: SSD — Single Shot Detector (Object Detection)](https://towardsdatascience.com/review-ssd-single-shot-detector-object-detection-851a94607d11)"
      ]
    },
    {
      "cell_type": "markdown",
      "metadata": {
        "id": "B_uJW81OJiOF",
        "colab_type": "text"
      },
      "source": [
        "## Clone the Keras SSD library to the Colab workspace"
      ]
    },
    {
      "cell_type": "code",
      "metadata": {
        "id": "vkiiVLIKi1cx",
        "colab_type": "code",
        "outputId": "fbf90840-4d27-45c3-9af5-b4238602788b",
        "colab": {
          "base_uri": "https://localhost:8080/",
          "height": 136
        }
      },
      "source": [
        "%cd /content\n",
        "%mkdir ssd-keras\n",
        "!git clone -l -s git://github.com/pierluigiferrari/ssd_keras.git ssd-keras"
      ],
      "execution_count": 0,
      "outputs": [
        {
          "output_type": "stream",
          "text": [
            "/content\n",
            "Cloning into 'ssd-keras'...\n",
            "warning: --local is ignored\n",
            "remote: Enumerating objects: 1608, done.\u001b[K\n",
            "remote: Total 1608 (delta 0), reused 0 (delta 0), pack-reused 1608\u001b[K\n",
            "Receiving objects: 100% (1608/1608), 19.71 MiB | 6.42 MiB/s, done.\n",
            "Resolving deltas: 100% (1056/1056), done.\n"
          ],
          "name": "stdout"
        }
      ]
    },
    {
      "cell_type": "markdown",
      "metadata": {
        "id": "eM3vIotRJvzg",
        "colab_type": "text"
      },
      "source": [
        "## Download the datasets for training"
      ]
    },
    {
      "cell_type": "code",
      "metadata": {
        "id": "FxBlnuXbi5Sn",
        "colab_type": "code",
        "outputId": "5fbb5e9f-c294-43f8-a8a3-8452961e1615",
        "colab": {
          "base_uri": "https://localhost:8080/",
          "height": 377
        }
      },
      "source": [
        "%cd /content/ssd-keras/\n",
        "!mkdir data\n",
        "%cd data\n",
        "\n",
        "!wget http://host.robots.ox.ac.uk/pascal/VOC/voc2012/VOCtrainval_11-May-2012.tar\n",
        "!wget http://host.robots.ox.ac.uk/pascal/VOC/voc2007/VOCtrainval_06-Nov-2007.tar\n",
        "!wget http://host.robots.ox.ac.uk/pascal/VOC/voc2007/VOCtest_06-Nov-2007.tar  \n",
        "\n",
        "\n",
        "!tar -xf VOCtrainval_11-May-2012.tar\n",
        "!tar -xf VOCtrainval_06-Nov-2007.tar\n",
        "!tar -xf VOCtest_06-Nov-2007.tar \n",
        "\n",
        "!wget https://raw.githubusercontent.com/circulosmeos/gdown.pl/master/gdown.pl\n",
        "!chmod a+x gdown.pl\n",
        "!./gdown.pl https://drive.google.com/file/d/1sBmajn6vOE7qJ8GnxUJt4fGPuffVUZox/view VGG_ILSVRC_16_layers_fc_reduced.h5"
      ],
      "execution_count": 0,
      "outputs": [
        {
          "output_type": "stream",
          "text": [
            "Cannot open cookies file ‘gdown.cookie.temp’: No such file or directory\n",
            "--2019-06-20 12:43:55--  https://docs.google.com/uc?id=1sBmajn6vOE7qJ8GnxUJt4fGPuffVUZox&export=download\n",
            "Resolving docs.google.com (docs.google.com)... 108.177.125.139, 108.177.125.100, 108.177.125.101, ...\n",
            "Connecting to docs.google.com (docs.google.com)|108.177.125.139|:443... connected.\n",
            "HTTP request sent, awaiting response... 302 Moved Temporarily\n",
            "Location: https://doc-0s-1c-docs.googleusercontent.com/docs/securesc/ha0ro937gcuc7l7deffksulhg5h7mbp1/tle28p5neq1cfq1hbbnd8fuaiane653a/1561032000000/01021765827329596762/*/1sBmajn6vOE7qJ8GnxUJt4fGPuffVUZox?e=download [following]\n",
            "Warning: wildcards not supported in HTTP.\n",
            "--2019-06-20 12:43:58--  https://doc-0s-1c-docs.googleusercontent.com/docs/securesc/ha0ro937gcuc7l7deffksulhg5h7mbp1/tle28p5neq1cfq1hbbnd8fuaiane653a/1561032000000/01021765827329596762/*/1sBmajn6vOE7qJ8GnxUJt4fGPuffVUZox?e=download\n",
            "Resolving doc-0s-1c-docs.googleusercontent.com (doc-0s-1c-docs.googleusercontent.com)... 74.125.204.132, 2404:6800:4008:c04::84\n",
            "Connecting to doc-0s-1c-docs.googleusercontent.com (doc-0s-1c-docs.googleusercontent.com)|74.125.204.132|:443... connected.\n",
            "HTTP request sent, awaiting response... 200 OK\n",
            "Length: unspecified [application/x-hdf]\n",
            "Saving to: ‘VGG_ILSVRC_16_layers_fc_reduced.h5’\n",
            "\n",
            "     0K ........ ........ ........ ........  181M\n",
            " 32768K ........ ........ ........ ........  191M\n",
            " 65536K ........ ........ ..                 199M=0.4s\n",
            "\n",
            "2019-06-20 12:43:59 (189 MB/s) - ‘VGG_ILSVRC_16_layers_fc_reduced.h5’ saved [86084720]\n",
            "\n"
          ],
          "name": "stdout"
        }
      ]
    },
    {
      "cell_type": "markdown",
      "metadata": {
        "id": "AA7936TDJT5t",
        "colab_type": "text"
      },
      "source": [
        "## Images EDA (Dataset PASCAL VOC 2012, 2007)\n",
        "\n",
        "We analyze the data of the training images. The size of the images which impacts to the training and prediction values. We have the following conventions:\n",
        "\n",
        "* If the ratio between width and high in [0.8, 1.2] then we consider the image shape is square\n",
        "\n",
        "* If the ratio between width and high is greater than 1.2, then image shape is lanscape\n",
        "\n",
        "* Otherwise, image shape is portrait"
      ]
    },
    {
      "cell_type": "code",
      "metadata": {
        "id": "6sfnmznAJbOO",
        "colab_type": "code",
        "outputId": "b72f5d5d-25f5-4941-d2a1-5d61e89fd927",
        "colab": {
          "base_uri": "https://localhost:8080/",
          "height": 255
        }
      },
      "source": [
        "from pathlib import Path\n",
        "from PIL import Image\n",
        "\n",
        "def sizesStats(path):\n",
        "  # List all subdirectory using pathlib\n",
        "  basepath = Path(path)\n",
        "  ts = 0\n",
        "  tp = 0\n",
        "  tl = 0\n",
        "  for entry in basepath.iterdir():\n",
        "      image  = Image.open(entry)\n",
        "      width, height = image.size\n",
        "      ratio = width / height\n",
        "      if ratio > 0.8 and ratio < 1.2:\n",
        "          ts +=1\n",
        "      elif ratio >= 1.2:\n",
        "          tl += 1\n",
        "      else:\n",
        "          tp +=1\n",
        "  return tp, ts, tl    \n",
        "    \n",
        "p2012, s2012, l2012 = sizesStats(\"/content/ssd-keras/data/VOCdevkit/VOC2012/JPEGImages\") \n",
        "p2007, s2007, l2007 = sizesStats(\"/content/ssd-keras/data/VOCdevkit/VOC2007/JPEGImages\") \n",
        "\n",
        "p, s, l = p2012 + p2007, s2012 + s2007, l2012 + l2007\n",
        "\n",
        "import matplotlib.pyplot as plt\n",
        "\n",
        "names = ['Portrait', 'Square', 'Landscape']\n",
        "values = [p, s, l]\n",
        "\n",
        "fig1, ax1 = plt.subplots()\n",
        "\n",
        "ax1.pie(values, labels=names, autopct='%1.1f%%',\n",
        "        shadow=True, startangle=90)\n",
        "ax1.axis('equal')  # Equal aspect ratio ensures that pie is drawn as a circle.\n",
        "\n",
        "plt.show()"
      ],
      "execution_count": 0,
      "outputs": [
        {
          "output_type": "display_data",
          "data": {
            "image/png": "[encoded data removed]",
            "text/plain": [
              "<Figure size 432x288 with 1 Axes>"
            ]
          },
          "metadata": {
            "tags": []
          }
        }
      ]
    },
    {
      "cell_type": "markdown",
      "metadata": {
        "id": "79uJWVrUJ2Rn",
        "colab_type": "text"
      },
      "source": [
        "The lanscape images has more quantity than portrait and square types"
      ]
    },
    {
      "cell_type": "code",
      "metadata": {
        "id": "rWyMV4PWJ8cM",
        "colab_type": "code",
        "outputId": "95646a23-cb5c-437a-9396-575bcfdc016a",
        "colab": {
          "base_uri": "https://localhost:8080/",
          "height": 683
        }
      },
      "source": [
        "def countLineOfFile(filename):\n",
        "    f = open(filename, \"r\")\n",
        "    count = 0\n",
        "    for line in f:\n",
        "        if line.endswith(\" 1\\n\"):\n",
        "            count = count + 1\n",
        "    return count        \n",
        "\n",
        "\n",
        "classes_trainval = {'aeroplane': 0, 'bicycle': 0, 'bird': 0, 'boat': 0,\n",
        "               'bottle': 0, 'bus': 0, 'car': 0, 'cat': 0,\n",
        "               'chair': 0, 'cow': 0, 'diningtable': 0, 'dog': 0,\n",
        "               'horse': 0, 'motorbike': 0, 'person': 0, 'pottedplant': 0,\n",
        "               'sheep': 0, 'sofa': 0, 'train': 0, 'tvmonitor': 0}\n",
        "\n",
        "classes_test = {'aeroplane': 0, 'bicycle': 0, 'bird': 0, 'boat': 0,\n",
        "               'bottle': 0, 'bus': 0, 'car': 0, 'cat': 0,\n",
        "               'chair': 0, 'cow': 0, 'diningtable': 0, 'dog': 0,\n",
        "               'horse': 0, 'motorbike': 0, 'person': 0, 'pottedplant': 0,\n",
        "               'sheep': 0, 'sofa': 0, 'train': 0, 'tvmonitor': 0}\n",
        "\n",
        "path2012 = \"/content/ssd-keras/data/VOCdevkit/VOC2012/ImageSets/Main/\"\n",
        "path2007 = \"/content/ssd-keras/data/VOCdevkit/VOC2007/ImageSets/Main/\"\n",
        "\n",
        "for classKey in classes_trainval.keys():\n",
        "    filePath = path2012 + classKey + \"_trainval.txt\"\n",
        "    classes_trainval[classKey] = countLineOfFile(filePath)\n",
        "    filePath = path2007 + classKey + \"_trainval.txt\"\n",
        "    classes_trainval[classKey] = classes_trainval[classKey] + countLineOfFile(filePath)\n",
        "    \n",
        "    filePath = path2007 + classKey + \"_test.txt\"\n",
        "    classes_test[classKey] = countLineOfFile(filePath)\n",
        "\n",
        "plt.figure(figsize=(20,10))\n",
        "p1 = plt.bar(classes_trainval.keys(), classes_trainval.values())\n",
        "p2 = plt.bar(classes_test.keys(), classes_test.values())\n",
        "plt.suptitle('Size distribution by Training, Validation and Testing')\n",
        "plt.legend((p1[0], p2[0]), ('Training and Validation', 'Testing'))\n",
        "plt.show()"
      ],
      "execution_count": 0,
      "outputs": [
        {
          "output_type": "display_data",
          "data": {
            "image/png": "[encoded data removed]",
            "text/plain": [
              "<Figure size 1440x720 with 1 Axes>"
            ]
          },
          "metadata": {
            "tags": []
          }
        }
      ]
    },
    {
      "cell_type": "markdown",
      "metadata": {
        "id": "TJ8EmzqEKE2T",
        "colab_type": "text"
      },
      "source": [
        "We need more pictures to help the machine detect the people than other classes"
      ]
    },
    {
      "cell_type": "markdown",
      "metadata": {
        "id": "-JUHji87MWAI",
        "colab_type": "text"
      },
      "source": [
        "## Training \n",
        "\n",
        "* Disclaimer: All sources are credited to this repo https://github.com/pierluigiferrari/ssd_keras"
      ]
    },
    {
      "cell_type": "code",
      "metadata": {
        "id": "pv2NtiAA5S3e",
        "colab_type": "code",
        "outputId": "2561e80e-fdd0-4be9-9d76-9d22c058bf71",
        "colab": {
          "base_uri": "https://localhost:8080/",
          "height": 34
        }
      },
      "source": [
        "import sys\n",
        "sys.path.append(\"/content/ssd-keras\")\n",
        "\n",
        "from keras.optimizers import Adam, SGD\n",
        "from keras.callbacks import ModelCheckpoint, LearningRateScheduler, TerminateOnNaN, CSVLogger\n",
        "from keras import backend as K\n",
        "from keras.models import load_model\n",
        "from math import ceil\n",
        "import numpy as np\n",
        "from matplotlib import pyplot as plt\n",
        "\n",
        "from models.keras_ssd300 import ssd_300\n",
        "from keras_loss_function.keras_ssd_loss import SSDLoss\n",
        "from keras_layers.keras_layer_AnchorBoxes import AnchorBoxes\n",
        "from keras_layers.keras_layer_DecodeDetections import DecodeDetections\n",
        "from keras_layers.keras_layer_DecodeDetectionsFast import DecodeDetectionsFast\n",
        "from keras_layers.keras_layer_L2Normalization import L2Normalization\n",
        "\n",
        "from ssd_encoder_decoder.ssd_input_encoder import SSDInputEncoder\n",
        "from ssd_encoder_decoder.ssd_output_decoder import decode_detections, decode_detections_fast\n",
        "\n",
        "from data_generator.object_detection_2d_data_generator import DataGenerator\n",
        "from data_generator.object_detection_2d_geometric_ops import Resize\n",
        "from data_generator.object_detection_2d_photometric_ops import ConvertTo3Channels\n",
        "from data_generator.data_augmentation_chain_original_ssd import SSDDataAugmentation\n",
        "from data_generator.object_detection_2d_misc_utils import apply_inverse_transforms\n",
        "\n",
        "%matplotlib inline"
      ],
      "execution_count": 0,
      "outputs": [
        {
          "output_type": "stream",
          "text": [
            "Using TensorFlow backend.\n"
          ],
          "name": "stderr"
        }
      ]
    },
    {
      "cell_type": "code",
      "metadata": {
        "id": "mRJpUINr5j4c",
        "colab_type": "code",
        "colab": {}
      },
      "source": [
        "img_height = 300 # Height of the model input images\n",
        "img_width = 300 # Width of the model input images\n",
        "img_channels = 3 # Number of color channels of the model input images\n",
        "mean_color = [123, 117, 104] # The per-channel mean of the images in the dataset. Do not change this value if you're using any of the pre-trained weights.\n",
        "swap_channels = [2, 1, 0] # The color channel order in the original SSD is BGR, so we'll have the model reverse the color channel order of the input images.\n",
        "n_classes = 20 # Number of positive classes, e.g. 20 for Pascal VOC, 80 for MS COCO\n",
        "scales_pascal = [0.1, 0.2, 0.37, 0.54, 0.71, 0.88, 1.05] # The anchor box scaling factors used in the original SSD300 for the Pascal VOC datasets\n",
        "scales_coco = [0.07, 0.15, 0.33, 0.51, 0.69, 0.87, 1.05] # The anchor box scaling factors used in the original SSD300 for the MS COCO datasets\n",
        "scales = scales_pascal\n",
        "aspect_ratios = [[1.0, 2.0, 0.5],\n",
        "                 [1.0, 2.0, 0.5, 3.0, 1.0/3.0],\n",
        "                 [1.0, 2.0, 0.5, 3.0, 1.0/3.0],\n",
        "                 [1.0, 2.0, 0.5, 3.0, 1.0/3.0],\n",
        "                 [1.0, 2.0, 0.5],\n",
        "                 [1.0, 2.0, 0.5]] # The anchor box aspect ratios used in the original SSD300; the order matters\n",
        "two_boxes_for_ar1 = True\n",
        "steps = [8, 16, 32, 64, 100, 300] # The space between two adjacent anchor box center points for each predictor layer.\n",
        "offsets = [0.5, 0.5, 0.5, 0.5, 0.5, 0.5] # The offsets of the first anchor box center points from the top and left borders of the image as a fraction of the step size for each predictor layer.\n",
        "clip_boxes = False # Whether or not to clip the anchor boxes to lie entirely within the image boundaries\n",
        "variances = [0.1, 0.1, 0.2, 0.2] # The variances by which the encoded target coordinates are divided as in the original implementation\n",
        "normalize_coords = True"
      ],
      "execution_count": 0,
      "outputs": []
    },
    {
      "cell_type": "code",
      "metadata": {
        "id": "H6jwrw7F5qHD",
        "colab_type": "code",
        "outputId": "176c51c3-0602-4f2d-e85b-8babe8aa4177",
        "colab": {
          "base_uri": "https://localhost:8080/",
          "height": 3454
        }
      },
      "source": [
        "import warnings\n",
        "warnings.filterwarnings('ignore')\n",
        "# 1: Build the Keras model.\n",
        "\n",
        "K.clear_session() # Clear previous models from memory.\n",
        "\n",
        "model = ssd_300(image_size=(img_height, img_width, img_channels),\n",
        "                n_classes=n_classes,\n",
        "                mode='training',\n",
        "                l2_regularization=0.0005,\n",
        "                scales=scales,\n",
        "                aspect_ratios_per_layer=aspect_ratios,\n",
        "                two_boxes_for_ar1=two_boxes_for_ar1,\n",
        "                steps=steps,\n",
        "                offsets=offsets,\n",
        "                clip_boxes=clip_boxes,\n",
        "                variances=variances,\n",
        "                normalize_coords=normalize_coords,\n",
        "                subtract_mean=mean_color,\n",
        "                swap_channels=swap_channels)\n",
        "\n",
        "# 2: Load some weights into the model.\n",
        "\n",
        "weights_path = '/content/ssd-keras/data/VGG_ILSVRC_16_layers_fc_reduced.h5'\n",
        "\n",
        "model.load_weights(weights_path, by_name=True)\n",
        "\n",
        "# 3: Instantiate an optimizer and the SSD loss function and compile the model.\n",
        "#    If you want to follow the original Caffe implementation, use the preset SGD\n",
        "#    optimizer, otherwise I'd recommend the commented-out Adam optimizer.\n",
        "\n",
        "adam = Adam(lr=0.001, beta_1=0.9, beta_2=0.999, epsilon=1e-08, decay=0.0)\n",
        "# sgd = SGD(lr=0.001, momentum=0.9, decay=0.0, nesterov=False)\n",
        "ssd_loss = SSDLoss(neg_pos_ratio=3, alpha=1.0)\n",
        "model.compile(optimizer=adam, loss=ssd_loss.compute_loss)\n",
        "\n",
        "\n",
        "print(model.summary())"
      ],
      "execution_count": 0,
      "outputs": [
        {
          "output_type": "stream",
          "text": [
            "WARNING: Logging before flag parsing goes to stderr.\n",
            "W0620 14:22:31.448597 140512939751296 deprecation_wrapper.py:119] From /usr/local/lib/python3.6/dist-packages/keras/backend/tensorflow_backend.py:95: The name tf.reset_default_graph is deprecated. Please use tf.compat.v1.reset_default_graph instead.\n",
            "\n",
            "W0620 14:22:31.453116 140512939751296 deprecation_wrapper.py:119] From /usr/local/lib/python3.6/dist-packages/keras/backend/tensorflow_backend.py:98: The name tf.placeholder_with_default is deprecated. Please use tf.compat.v1.placeholder_with_default instead.\n",
            "\n",
            "W0620 14:22:31.495954 140512939751296 deprecation_wrapper.py:119] From /usr/local/lib/python3.6/dist-packages/keras/backend/tensorflow_backend.py:102: The name tf.get_default_graph is deprecated. Please use tf.compat.v1.get_default_graph instead.\n",
            "\n",
            "W0620 14:22:31.497724 140512939751296 deprecation_wrapper.py:119] From /usr/local/lib/python3.6/dist-packages/keras/backend/tensorflow_backend.py:517: The name tf.placeholder is deprecated. Please use tf.compat.v1.placeholder instead.\n",
            "\n",
            "W0620 14:22:31.520502 140512939751296 deprecation_wrapper.py:119] From /usr/local/lib/python3.6/dist-packages/keras/backend/tensorflow_backend.py:4185: The name tf.truncated_normal is deprecated. Please use tf.random.truncated_normal instead.\n",
            "\n",
            "W0620 14:22:31.579374 140512939751296 deprecation_wrapper.py:119] From /usr/local/lib/python3.6/dist-packages/keras/backend/tensorflow_backend.py:3976: The name tf.nn.max_pool is deprecated. Please use tf.nn.max_pool2d instead.\n",
            "\n",
            "W0620 14:22:35.832766 140512939751296 deprecation_wrapper.py:119] From /usr/local/lib/python3.6/dist-packages/keras/optimizers.py:790: The name tf.train.Optimizer is deprecated. Please use tf.compat.v1.train.Optimizer instead.\n",
            "\n",
            "W0620 14:22:35.861198 140512939751296 deprecation.py:323] From /content/ssd-keras/keras_loss_function/keras_ssd_loss.py:133: to_float (from tensorflow.python.ops.math_ops) is deprecated and will be removed in a future version.\n",
            "Instructions for updating:\n",
            "Use `tf.cast` instead.\n",
            "W0620 14:22:35.879816 140512939751296 deprecation.py:323] From /content/ssd-keras/keras_loss_function/keras_ssd_loss.py:74: add_dispatch_support.<locals>.wrapper (from tensorflow.python.ops.array_ops) is deprecated and will be removed in a future version.\n",
            "Instructions for updating:\n",
            "Use tf.where in 2.0, which has the same broadcast rule as np.where\n",
            "W0620 14:22:35.903960 140512939751296 deprecation.py:323] From /content/ssd-keras/keras_loss_function/keras_ssd_loss.py:166: to_int32 (from tensorflow.python.ops.math_ops) is deprecated and will be removed in a future version.\n",
            "Instructions for updating:\n",
            "Use `tf.cast` instead.\n"
          ],
          "name": "stderr"
        },
        {
          "output_type": "stream",
          "text": [
            "__________________________________________________________________________________________________\n",
            "Layer (type)                    Output Shape         Param #     Connected to                     \n",
            "==================================================================================================\n",
            "input_1 (InputLayer)            (None, 300, 300, 3)  0                                            \n",
            "__________________________________________________________________________________________________\n",
            "identity_layer (Lambda)         (None, 300, 300, 3)  0           input_1[0][0]                    \n",
            "__________________________________________________________________________________________________\n",
            "input_mean_normalization (Lambd (None, 300, 300, 3)  0           identity_layer[0][0]             \n",
            "__________________________________________________________________________________________________\n",
            "input_channel_swap (Lambda)     (None, 300, 300, 3)  0           input_mean_normalization[0][0]   \n",
            "__________________________________________________________________________________________________\n",
            "conv1_1 (Conv2D)                (None, 300, 300, 64) 1792        input_channel_swap[0][0]         \n",
            "__________________________________________________________________________________________________\n",
            "conv1_2 (Conv2D)                (None, 300, 300, 64) 36928       conv1_1[0][0]                    \n",
            "__________________________________________________________________________________________________\n",
            "pool1 (MaxPooling2D)            (None, 150, 150, 64) 0           conv1_2[0][0]                    \n",
            "__________________________________________________________________________________________________\n",
            "conv2_1 (Conv2D)                (None, 150, 150, 128 73856       pool1[0][0]                      \n",
            "__________________________________________________________________________________________________\n",
            "conv2_2 (Conv2D)                (None, 150, 150, 128 147584      conv2_1[0][0]                    \n",
            "__________________________________________________________________________________________________\n",
            "pool2 (MaxPooling2D)            (None, 75, 75, 128)  0           conv2_2[0][0]                    \n",
            "__________________________________________________________________________________________________\n",
            "conv3_1 (Conv2D)                (None, 75, 75, 256)  295168      pool2[0][0]                      \n",
            "__________________________________________________________________________________________________\n",
            "conv3_2 (Conv2D)                (None, 75, 75, 256)  590080      conv3_1[0][0]                    \n",
            "__________________________________________________________________________________________________\n",
            "conv3_3 (Conv2D)                (None, 75, 75, 256)  590080      conv3_2[0][0]                    \n",
            "__________________________________________________________________________________________________\n",
            "pool3 (MaxPooling2D)            (None, 38, 38, 256)  0           conv3_3[0][0]                    \n",
            "__________________________________________________________________________________________________\n",
            "conv4_1 (Conv2D)                (None, 38, 38, 512)  1180160     pool3[0][0]                      \n",
            "__________________________________________________________________________________________________\n",
            "conv4_2 (Conv2D)                (None, 38, 38, 512)  2359808     conv4_1[0][0]                    \n",
            "__________________________________________________________________________________________________\n",
            "conv4_3 (Conv2D)                (None, 38, 38, 512)  2359808     conv4_2[0][0]                    \n",
            "__________________________________________________________________________________________________\n",
            "pool4 (MaxPooling2D)            (None, 19, 19, 512)  0           conv4_3[0][0]                    \n",
            "__________________________________________________________________________________________________\n",
            "conv5_1 (Conv2D)                (None, 19, 19, 512)  2359808     pool4[0][0]                      \n",
            "__________________________________________________________________________________________________\n",
            "conv5_2 (Conv2D)                (None, 19, 19, 512)  2359808     conv5_1[0][0]                    \n",
            "__________________________________________________________________________________________________\n",
            "conv5_3 (Conv2D)                (None, 19, 19, 512)  2359808     conv5_2[0][0]                    \n",
            "__________________________________________________________________________________________________\n",
            "pool5 (MaxPooling2D)            (None, 19, 19, 512)  0           conv5_3[0][0]                    \n",
            "__________________________________________________________________________________________________\n",
            "fc6 (Conv2D)                    (None, 19, 19, 1024) 4719616     pool5[0][0]                      \n",
            "__________________________________________________________________________________________________\n",
            "fc7 (Conv2D)                    (None, 19, 19, 1024) 1049600     fc6[0][0]                        \n",
            "__________________________________________________________________________________________________\n",
            "conv6_1 (Conv2D)                (None, 19, 19, 256)  262400      fc7[0][0]                        \n",
            "__________________________________________________________________________________________________\n",
            "conv6_padding (ZeroPadding2D)   (None, 21, 21, 256)  0           conv6_1[0][0]                    \n",
            "__________________________________________________________________________________________________\n",
            "conv6_2 (Conv2D)                (None, 10, 10, 512)  1180160     conv6_padding[0][0]              \n",
            "__________________________________________________________________________________________________\n",
            "conv7_1 (Conv2D)                (None, 10, 10, 128)  65664       conv6_2[0][0]                    \n",
            "__________________________________________________________________________________________________\n",
            "conv7_padding (ZeroPadding2D)   (None, 12, 12, 128)  0           conv7_1[0][0]                    \n",
            "__________________________________________________________________________________________________\n",
            "conv7_2 (Conv2D)                (None, 5, 5, 256)    295168      conv7_padding[0][0]              \n",
            "__________________________________________________________________________________________________\n",
            "conv8_1 (Conv2D)                (None, 5, 5, 128)    32896       conv7_2[0][0]                    \n",
            "__________________________________________________________________________________________________\n",
            "conv8_2 (Conv2D)                (None, 3, 3, 256)    295168      conv8_1[0][0]                    \n",
            "__________________________________________________________________________________________________\n",
            "conv9_1 (Conv2D)                (None, 3, 3, 128)    32896       conv8_2[0][0]                    \n",
            "__________________________________________________________________________________________________\n",
            "conv4_3_norm (L2Normalization)  (None, 38, 38, 512)  512         conv4_3[0][0]                    \n",
            "__________________________________________________________________________________________________\n",
            "conv9_2 (Conv2D)                (None, 1, 1, 256)    295168      conv9_1[0][0]                    \n",
            "__________________________________________________________________________________________________\n",
            "conv4_3_norm_mbox_conf (Conv2D) (None, 38, 38, 84)   387156      conv4_3_norm[0][0]               \n",
            "__________________________________________________________________________________________________\n",
            "fc7_mbox_conf (Conv2D)          (None, 19, 19, 126)  1161342     fc7[0][0]                        \n",
            "__________________________________________________________________________________________________\n",
            "conv6_2_mbox_conf (Conv2D)      (None, 10, 10, 126)  580734      conv6_2[0][0]                    \n",
            "__________________________________________________________________________________________________\n",
            "conv7_2_mbox_conf (Conv2D)      (None, 5, 5, 126)    290430      conv7_2[0][0]                    \n",
            "__________________________________________________________________________________________________\n",
            "conv8_2_mbox_conf (Conv2D)      (None, 3, 3, 84)     193620      conv8_2[0][0]                    \n",
            "__________________________________________________________________________________________________\n",
            "conv9_2_mbox_conf (Conv2D)      (None, 1, 1, 84)     193620      conv9_2[0][0]                    \n",
            "__________________________________________________________________________________________________\n",
            "conv4_3_norm_mbox_loc (Conv2D)  (None, 38, 38, 16)   73744       conv4_3_norm[0][0]               \n",
            "__________________________________________________________________________________________________\n",
            "fc7_mbox_loc (Conv2D)           (None, 19, 19, 24)   221208      fc7[0][0]                        \n",
            "__________________________________________________________________________________________________\n",
            "conv6_2_mbox_loc (Conv2D)       (None, 10, 10, 24)   110616      conv6_2[0][0]                    \n",
            "__________________________________________________________________________________________________\n",
            "conv7_2_mbox_loc (Conv2D)       (None, 5, 5, 24)     55320       conv7_2[0][0]                    \n",
            "__________________________________________________________________________________________________\n",
            "conv8_2_mbox_loc (Conv2D)       (None, 3, 3, 16)     36880       conv8_2[0][0]                    \n",
            "__________________________________________________________________________________________________\n",
            "conv9_2_mbox_loc (Conv2D)       (None, 1, 1, 16)     36880       conv9_2[0][0]                    \n",
            "__________________________________________________________________________________________________\n",
            "conv4_3_norm_mbox_conf_reshape  (None, 5776, 21)     0           conv4_3_norm_mbox_conf[0][0]     \n",
            "__________________________________________________________________________________________________\n",
            "fc7_mbox_conf_reshape (Reshape) (None, 2166, 21)     0           fc7_mbox_conf[0][0]              \n",
            "__________________________________________________________________________________________________\n",
            "conv6_2_mbox_conf_reshape (Resh (None, 600, 21)      0           conv6_2_mbox_conf[0][0]          \n",
            "__________________________________________________________________________________________________\n",
            "conv7_2_mbox_conf_reshape (Resh (None, 150, 21)      0           conv7_2_mbox_conf[0][0]          \n",
            "__________________________________________________________________________________________________\n",
            "conv8_2_mbox_conf_reshape (Resh (None, 36, 21)       0           conv8_2_mbox_conf[0][0]          \n",
            "__________________________________________________________________________________________________\n",
            "conv9_2_mbox_conf_reshape (Resh (None, 4, 21)        0           conv9_2_mbox_conf[0][0]          \n",
            "__________________________________________________________________________________________________\n",
            "conv4_3_norm_mbox_priorbox (Anc (None, 38, 38, 4, 8) 0           conv4_3_norm_mbox_loc[0][0]      \n",
            "__________________________________________________________________________________________________\n",
            "fc7_mbox_priorbox (AnchorBoxes) (None, 19, 19, 6, 8) 0           fc7_mbox_loc[0][0]               \n",
            "__________________________________________________________________________________________________\n",
            "conv6_2_mbox_priorbox (AnchorBo (None, 10, 10, 6, 8) 0           conv6_2_mbox_loc[0][0]           \n",
            "__________________________________________________________________________________________________\n",
            "conv7_2_mbox_priorbox (AnchorBo (None, 5, 5, 6, 8)   0           conv7_2_mbox_loc[0][0]           \n",
            "__________________________________________________________________________________________________\n",
            "conv8_2_mbox_priorbox (AnchorBo (None, 3, 3, 4, 8)   0           conv8_2_mbox_loc[0][0]           \n",
            "__________________________________________________________________________________________________\n",
            "conv9_2_mbox_priorbox (AnchorBo (None, 1, 1, 4, 8)   0           conv9_2_mbox_loc[0][0]           \n",
            "__________________________________________________________________________________________________\n",
            "mbox_conf (Concatenate)         (None, 8732, 21)     0           conv4_3_norm_mbox_conf_reshape[0]\n",
            "                                                                 fc7_mbox_conf_reshape[0][0]      \n",
            "                                                                 conv6_2_mbox_conf_reshape[0][0]  \n",
            "                                                                 conv7_2_mbox_conf_reshape[0][0]  \n",
            "                                                                 conv8_2_mbox_conf_reshape[0][0]  \n",
            "                                                                 conv9_2_mbox_conf_reshape[0][0]  \n",
            "__________________________________________________________________________________________________\n",
            "conv4_3_norm_mbox_loc_reshape ( (None, 5776, 4)      0           conv4_3_norm_mbox_loc[0][0]      \n",
            "__________________________________________________________________________________________________\n",
            "fc7_mbox_loc_reshape (Reshape)  (None, 2166, 4)      0           fc7_mbox_loc[0][0]               \n",
            "__________________________________________________________________________________________________\n",
            "conv6_2_mbox_loc_reshape (Resha (None, 600, 4)       0           conv6_2_mbox_loc[0][0]           \n",
            "__________________________________________________________________________________________________\n",
            "conv7_2_mbox_loc_reshape (Resha (None, 150, 4)       0           conv7_2_mbox_loc[0][0]           \n",
            "__________________________________________________________________________________________________\n",
            "conv8_2_mbox_loc_reshape (Resha (None, 36, 4)        0           conv8_2_mbox_loc[0][0]           \n",
            "__________________________________________________________________________________________________\n",
            "conv9_2_mbox_loc_reshape (Resha (None, 4, 4)         0           conv9_2_mbox_loc[0][0]           \n",
            "__________________________________________________________________________________________________\n",
            "conv4_3_norm_mbox_priorbox_resh (None, 5776, 8)      0           conv4_3_norm_mbox_priorbox[0][0] \n",
            "__________________________________________________________________________________________________\n",
            "fc7_mbox_priorbox_reshape (Resh (None, 2166, 8)      0           fc7_mbox_priorbox[0][0]          \n",
            "__________________________________________________________________________________________________\n",
            "conv6_2_mbox_priorbox_reshape ( (None, 600, 8)       0           conv6_2_mbox_priorbox[0][0]      \n",
            "__________________________________________________________________________________________________\n",
            "conv7_2_mbox_priorbox_reshape ( (None, 150, 8)       0           conv7_2_mbox_priorbox[0][0]      \n",
            "__________________________________________________________________________________________________\n",
            "conv8_2_mbox_priorbox_reshape ( (None, 36, 8)        0           conv8_2_mbox_priorbox[0][0]      \n",
            "__________________________________________________________________________________________________\n",
            "conv9_2_mbox_priorbox_reshape ( (None, 4, 8)         0           conv9_2_mbox_priorbox[0][0]      \n",
            "__________________________________________________________________________________________________\n",
            "mbox_conf_softmax (Activation)  (None, 8732, 21)     0           mbox_conf[0][0]                  \n",
            "__________________________________________________________________________________________________\n",
            "mbox_loc (Concatenate)          (None, 8732, 4)      0           conv4_3_norm_mbox_loc_reshape[0][\n",
            "                                                                 fc7_mbox_loc_reshape[0][0]       \n",
            "                                                                 conv6_2_mbox_loc_reshape[0][0]   \n",
            "                                                                 conv7_2_mbox_loc_reshape[0][0]   \n",
            "                                                                 conv8_2_mbox_loc_reshape[0][0]   \n",
            "                                                                 conv9_2_mbox_loc_reshape[0][0]   \n",
            "__________________________________________________________________________________________________\n",
            "mbox_priorbox (Concatenate)     (None, 8732, 8)      0           conv4_3_norm_mbox_priorbox_reshap\n",
            "                                                                 fc7_mbox_priorbox_reshape[0][0]  \n",
            "                                                                 conv6_2_mbox_priorbox_reshape[0][\n",
            "                                                                 conv7_2_mbox_priorbox_reshape[0][\n",
            "                                                                 conv8_2_mbox_priorbox_reshape[0][\n",
            "                                                                 conv9_2_mbox_priorbox_reshape[0][\n",
            "__________________________________________________________________________________________________\n",
            "predictions (Concatenate)       (None, 8732, 33)     0           mbox_conf_softmax[0][0]          \n",
            "                                                                 mbox_loc[0][0]                   \n",
            "                                                                 mbox_priorbox[0][0]              \n",
            "==================================================================================================\n",
            "Total params: 26,285,486\n",
            "Trainable params: 26,285,486\n",
            "Non-trainable params: 0\n",
            "__________________________________________________________________________________________________\n",
            "None\n"
          ],
          "name": "stdout"
        }
      ]
    },
    {
      "cell_type": "code",
      "metadata": {
        "id": "nIKtFyk2cFvS",
        "colab_type": "code",
        "outputId": "cd53ceaf-1b03-419b-d9d9-8b11672b2414",
        "colab": {
          "base_uri": "https://localhost:8080/",
          "height": 102
        }
      },
      "source": [
        "# 1: Instantiate two `DataGenerator` objects: One for training, one for validation.\n",
        "\n",
        "# Optional: If you have enough memory, consider loading the images into memory for the reasons explained above.\n",
        "\n",
        "train_dataset = DataGenerator(load_images_into_memory=False, hdf5_dataset_path=None)\n",
        "val_dataset = DataGenerator(load_images_into_memory=False, hdf5_dataset_path=None)\n",
        "\n",
        "# 2: Parse the image and label lists for the training and validation datasets. This can take a while.\n",
        "\n",
        "# TODO: Set the paths to the datasets here.\n",
        "\n",
        "# The directories that contain the images.\n",
        "VOC_2007_images_dir      = '/content/ssd-keras/data/VOCdevkit/VOC2007/JPEGImages/'\n",
        "VOC_2012_images_dir      = '/content/ssd-keras/data/VOCdevkit/VOC2012/JPEGImages/'\n",
        "\n",
        "# The directories that contain the annotations.\n",
        "VOC_2007_annotations_dir      = '/content/ssd-keras/data/VOCdevkit/VOC2007/Annotations/'\n",
        "VOC_2012_annotations_dir      = '/content/ssd-keras/data/VOCdevkit/VOC2012/Annotations/'\n",
        "\n",
        "# The paths to the image sets.\n",
        "VOC_2007_train_image_set_filename    = '/content/ssd-keras/data/VOCdevkit/VOC2007/ImageSets/Main/train.txt'\n",
        "VOC_2012_train_image_set_filename    = '/content/ssd-keras/data/VOCdevkit/VOC2012/ImageSets/Main/train.txt'\n",
        "VOC_2007_val_image_set_filename      = '/content/ssd-keras/data/VOCdevkit/VOC2007/ImageSets/Main/val.txt'\n",
        "VOC_2012_val_image_set_filename      = '/content/ssd-keras/data/VOCdevkit/VOC2012/ImageSets/Main/val.txt'\n",
        "VOC_2007_trainval_image_set_filename = '/content/ssd-keras/data/VOCdevkit/VOC2007/ImageSets/Main/trainval.txt'\n",
        "VOC_2012_trainval_image_set_filename = '/content/ssd-keras/data/VOCdevkit/VOC2012/ImageSets/Main/trainval.txt'\n",
        "VOC_2007_test_image_set_filename     = '/content/ssd-keras/data/VOCdevkit/VOC2007/ImageSets/Main/test.txt'\n",
        "\n",
        "# The XML parser needs to now what object class names to look for and in which order to map them to integers.\n",
        "classes = ['background',\n",
        "           'aeroplane', 'bicycle', 'bird', 'boat',\n",
        "           'bottle', 'bus', 'car', 'cat',\n",
        "           'chair', 'cow', 'diningtable', 'dog',\n",
        "           'horse', 'motorbike', 'person', 'pottedplant',\n",
        "           'sheep', 'sofa', 'train', 'tvmonitor']\n",
        "\n",
        "train_dataset.parse_xml(images_dirs=[VOC_2007_images_dir,\n",
        "                                     VOC_2012_images_dir],\n",
        "                        image_set_filenames=[VOC_2007_trainval_image_set_filename,\n",
        "                                             VOC_2012_trainval_image_set_filename],\n",
        "                        annotations_dirs=[VOC_2007_annotations_dir,\n",
        "                                          VOC_2012_annotations_dir],\n",
        "                        classes=classes,\n",
        "                        include_classes='all',\n",
        "                        exclude_truncated=False,\n",
        "                        exclude_difficult=False,\n",
        "                        ret=False)\n",
        "\n",
        "val_dataset.parse_xml(images_dirs=[VOC_2007_images_dir],\n",
        "                      image_set_filenames=[VOC_2007_test_image_set_filename],\n",
        "                      annotations_dirs=[VOC_2007_annotations_dir],\n",
        "                      classes=classes,\n",
        "                      include_classes='all',\n",
        "                      exclude_truncated=False,\n",
        "                      exclude_difficult=True,\n",
        "                      ret=False)\n",
        "\n",
        "# Optional: Convert the dataset into an HDF5 dataset. This will require more disk space, but will\n",
        "# speed up the training. Doing this is not relevant in case you activated the `load_images_into_memory`\n",
        "# option in the constructor, because in that cas the images are in memory already anyway. If you don't\n",
        "# want to create HDF5 datasets, comment out the subsequent two function calls.\n",
        "\n",
        "train_dataset.create_hdf5_dataset(file_path='dataset_pascal_voc_07+12_trainval.h5',\n",
        "                                  resize=False,\n",
        "                                  variable_image_size=True,\n",
        "                                  verbose=True)\n",
        "\n",
        "val_dataset.create_hdf5_dataset(file_path='dataset_pascal_voc_07_test.h5',\n",
        "                                resize=False,\n",
        "                                variable_image_size=True,\n",
        "                                verbose=True)"
      ],
      "execution_count": 0,
      "outputs": [
        {
          "output_type": "stream",
          "text": [
            "Processing image set 'trainval.txt': 100%|██████████| 5011/5011 [00:17<00:00, 293.38it/s]\n",
            "Processing image set 'trainval.txt': 100%|██████████| 11540/11540 [00:35<00:00, 323.44it/s]\n",
            "Processing image set 'test.txt': 100%|██████████| 4952/4952 [00:16<00:00, 303.12it/s]\n",
            "Creating HDF5 dataset: 100%|██████████| 16551/16551 [03:10<00:00, 98.62it/s]\n",
            "Creating HDF5 dataset: 100%|██████████| 4952/4952 [00:54<00:00, 91.15it/s] \n"
          ],
          "name": "stdout"
        }
      ]
    },
    {
      "cell_type": "code",
      "metadata": {
        "id": "fd-DZVpYdkMD",
        "colab_type": "code",
        "outputId": "4c261c86-5fca-42bb-b23c-089b6489d398",
        "colab": {
          "base_uri": "https://localhost:8080/",
          "height": 51
        }
      },
      "source": [
        "# 3: Set the batch size.\n",
        "\n",
        "batch_size = 32 # Change the batch size if you like, or if you run into GPU memory issues.\n",
        "\n",
        "# 4: Set the image transformations for pre-processing and data augmentation options.\n",
        "\n",
        "# For the training generator:\n",
        "ssd_data_augmentation = SSDDataAugmentation(img_height=img_height,\n",
        "                                            img_width=img_width,\n",
        "                                            background=mean_color)\n",
        "\n",
        "# For the validation generator:\n",
        "convert_to_3_channels = ConvertTo3Channels()\n",
        "resize = Resize(height=img_height, width=img_width)\n",
        "\n",
        "# 5: Instantiate an encoder that can encode ground truth labels into the format needed by the SSD loss function.\n",
        "\n",
        "# The encoder constructor needs the spatial dimensions of the model's predictor layers to create the anchor boxes.\n",
        "predictor_sizes = [model.get_layer('conv4_3_norm_mbox_conf').output_shape[1:3],\n",
        "                   model.get_layer('fc7_mbox_conf').output_shape[1:3],\n",
        "                   model.get_layer('conv6_2_mbox_conf').output_shape[1:3],\n",
        "                   model.get_layer('conv7_2_mbox_conf').output_shape[1:3],\n",
        "                   model.get_layer('conv8_2_mbox_conf').output_shape[1:3],\n",
        "                   model.get_layer('conv9_2_mbox_conf').output_shape[1:3]]\n",
        "\n",
        "ssd_input_encoder = SSDInputEncoder(img_height=img_height,\n",
        "                                    img_width=img_width,\n",
        "                                    n_classes=n_classes,\n",
        "                                    predictor_sizes=predictor_sizes,\n",
        "                                    scales=scales,\n",
        "                                    aspect_ratios_per_layer=aspect_ratios,\n",
        "                                    two_boxes_for_ar1=two_boxes_for_ar1,\n",
        "                                    steps=steps,\n",
        "                                    offsets=offsets,\n",
        "                                    clip_boxes=clip_boxes,\n",
        "                                    variances=variances,\n",
        "                                    matching_type='multi',\n",
        "                                    pos_iou_threshold=0.5,\n",
        "                                    neg_iou_limit=0.5,\n",
        "                                    normalize_coords=normalize_coords)\n",
        "\n",
        "# 6: Create the generator handles that will be passed to Keras' `fit_generator()` function.\n",
        "\n",
        "train_generator = train_dataset.generate(batch_size=batch_size,\n",
        "                                         shuffle=False,\n",
        "                                         transformations=[ssd_data_augmentation],\n",
        "                                         label_encoder=ssd_input_encoder,\n",
        "                                         returns={'processed_images',\n",
        "                                                  'encoded_labels'},\n",
        "                                         keep_images_without_gt=False)\n",
        "\n",
        "val_generator = val_dataset.generate(batch_size=batch_size,\n",
        "                                     shuffle=False,\n",
        "                                     transformations=[convert_to_3_channels,\n",
        "                                                      resize],\n",
        "                                     label_encoder=ssd_input_encoder,\n",
        "                                     returns={'processed_images',\n",
        "                                              'encoded_labels'},\n",
        "                                     keep_images_without_gt=False)\n",
        "\n",
        "# Get the number of samples in the training and validations datasets.\n",
        "train_dataset_size = train_dataset.get_dataset_size()\n",
        "val_dataset_size   = val_dataset.get_dataset_size()\n",
        "\n",
        "print(\"Number of images in the training dataset:\\t{:>6}\".format(train_dataset_size))\n",
        "print(\"Number of images in the validation dataset:\\t{:>6}\".format(val_dataset_size))"
      ],
      "execution_count": 0,
      "outputs": [
        {
          "output_type": "stream",
          "text": [
            "Number of images in the training dataset:\t 16551\n",
            "Number of images in the validation dataset:\t  4952\n"
          ],
          "name": "stdout"
        }
      ]
    },
    {
      "cell_type": "code",
      "metadata": {
        "id": "fXDxGE04dozM",
        "colab_type": "code",
        "colab": {}
      },
      "source": [
        "# Define a learning rate schedule.\n",
        "\n",
        "def lr_schedule(epoch):\n",
        "    if epoch < 80:\n",
        "        return 0.0001\n",
        "    elif epoch < 100:\n",
        "        return 0.0001\n",
        "    else:\n",
        "        return 0.00001"
      ],
      "execution_count": 0,
      "outputs": []
    },
    {
      "cell_type": "code",
      "metadata": {
        "id": "lgJu6bkRdsK2",
        "colab_type": "code",
        "colab": {}
      },
      "source": [
        "# Define model callbacks.\n",
        "\n",
        "# TODO: Set the filepath under which you want to save the model.\n",
        "model_checkpoint = ModelCheckpoint(filepath='ssd300_pascal_07+12_epoch-{epoch:02d}_loss-{loss:.4f}_val_loss-{val_loss:.4f}.h5',\n",
        "                                   monitor='val_loss',\n",
        "                                   verbose=1,\n",
        "                                   save_best_only=True,\n",
        "                                   save_weights_only=False,\n",
        "                                   mode='auto',\n",
        "                                   period=1)\n",
        "#model_checkpoint.best = \n",
        "\n",
        "csv_logger = CSVLogger(filename='ssd300_pascal_07+12_training_log.csv',\n",
        "                       separator=',',\n",
        "                       append=True)\n",
        "\n",
        "learning_rate_scheduler = LearningRateScheduler(schedule=lr_schedule,\n",
        "                                                verbose=1)\n",
        "\n",
        "terminate_on_nan = TerminateOnNaN()\n",
        "\n",
        "callbacks = [model_checkpoint,\n",
        "             csv_logger,\n",
        "             learning_rate_scheduler,\n",
        "             terminate_on_nan]"
      ],
      "execution_count": 0,
      "outputs": []
    },
    {
      "cell_type": "code",
      "metadata": {
        "id": "bTbCy12Hdx0V",
        "colab_type": "code",
        "outputId": "b9ba9cb9-a6b6-423d-8f7b-90c2819b25b7",
        "colab": {
          "base_uri": "https://localhost:8080/",
          "height": 85
        }
      },
      "source": [
        "# If you're resuming a previous training, set `initial_epoch` and `final_epoch` accordingly.\n",
        "initial_epoch   = 0\n",
        "final_epoch     = 4\n",
        "steps_per_epoch = 1000\n",
        "\n",
        "history = model.fit_generator(generator=train_generator,\n",
        "                              steps_per_epoch=steps_per_epoch,\n",
        "                              epochs=final_epoch,\n",
        "                              callbacks=callbacks,\n",
        "                              validation_data=val_generator,\n",
        "                              validation_steps=ceil(val_dataset_size/batch_size),\n",
        "                              initial_epoch=initial_epoch)"
      ],
      "execution_count": 0,
      "outputs": [
        {
          "output_type": "stream",
          "text": [
            "Epoch 1/4\n",
            "\n",
            "Epoch 00001: LearningRateScheduler setting learning rate to 0.0001.\n",
            " 588/1000 [================>.............] - ETA: 14:56 - loss: 9.9614"
          ],
          "name": "stdout"
        }
      ]
    },
    {
      "cell_type": "code",
      "metadata": {
        "id": "BD4uMObRXOl9",
        "colab_type": "code",
        "outputId": "53fbf782-adb5-4b46-e9e5-48753219baa4",
        "colab": {
          "base_uri": "https://localhost:8080/",
          "height": 312
        }
      },
      "source": [
        "# list all data in history\n",
        "print(history.history.keys())\n",
        "# summarize history for loss\n",
        "plt.plot(history.history['loss'])\n",
        "plt.plot(history.history['val_loss'])\n",
        "plt.title('model loss')\n",
        "plt.ylabel('loss')\n",
        "plt.xlabel('epoch')\n",
        "plt.legend(['train', 'test'], loc='upper left')\n",
        "plt.show()"
      ],
      "execution_count": 0,
      "outputs": [
        {
          "output_type": "stream",
          "text": [
            "dict_keys(['val_loss', 'loss', 'lr'])\n"
          ],
          "name": "stdout"
        },
        {
          "output_type": "display_data",
          "data": {
            "image/png": "[encoded data removed]",
            "text/plain": [
              "<Figure size 432x288 with 1 Axes>"
            ]
          },
          "metadata": {
            "tags": []
          }
        }
      ]
    }
  ]
}