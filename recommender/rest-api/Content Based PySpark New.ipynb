{
 "cells": [
  {
   "cell_type": "markdown",
   "metadata": {},
   "source": [
    "Load datasets\n",
    "-----------------"
   ]
  },
  {
   "cell_type": "code",
   "execution_count": 1,
   "metadata": {
    "scrolled": false
   },
   "outputs": [],
   "source": [
    "from pyspark.sql import SparkSession\n",
    "from pyspark.sql.types import ArrayType, IntegerType\n",
    "from pyspark.sql.functions import col, count, mean, udf, UserDefinedFunction\n",
    "import re\n",
    "\n",
    "genresList = [\"Crime\", \"Romance\", \"Thriller\", \"Adventure\", \"Drama\", \"War\", \"Documentary\", \"Fantasy\", \"Mystery\", \\\n",
    "                  \"Musical\", \"Animation\", \"Film-Noir\", \"(no genres listed)\", \"IMAX\", \"Horror\", \"Western\", \\\n",
    "                  \"Comedy\", \"Children\", \"Action\", \"Sci-Fi\"]\n",
    "\n",
    "spark = SparkSession.builder.appName(\"Recommendation ALS\").config(\"spark.executor.memory\", \"3g\")\\\n",
    "    .config(\"spark.driver.cores\", \"4\").getOrCreate()\n",
    "\n",
    "# do something to prove it works\n",
    "movies_df = spark.read.option(\"header\", \"true\").csv(\"data/movies.csv\", inferSchema=True)\n",
    "links_df = spark.read.option(\"header\", \"true\").csv(\"data/links.csv\", inferSchema=True).cache()\n",
    "movies_df = movies_df.join(links_df, on = ['movieId']).cache()\n",
    "ratings_df = spark.read.option(\"header\", \"true\").csv(\"data/ratings.csv\", inferSchema=True).cache()\n",
    "tags_df = spark.read.option(\"header\", \"true\").csv(\"data/tags.csv\", inferSchema=True).cache()\n",
    "\n",
    "def setGenresMatrix(genres):\n",
    "    movieGenresMatrix = []\n",
    "    movieGenresList = genres.split('|')\n",
    "    for x in genresList:\n",
    "        if (x in movieGenresList):\n",
    "            movieGenresMatrix.append(1)\n",
    "        else:\n",
    "            movieGenresMatrix.append(0) \n",
    "    return movieGenresMatrix\n",
    "\n",
    "udf_parse_genres = UserDefinedFunction(lambda str: setGenresMatrix(str), ArrayType(IntegerType()))\n",
    "\n",
    "\n",
    "movies_df = movies_df.withColumn(\"genresMatrix\", udf_parse_genres(col(\"genres\")))\n",
    "ratings_df = ratings_df.groupBy(\"movieId\").agg(mean(\"rating\").alias(\"mean_rating\"), count(\"rating\")\\\n",
    "                                               .alias(\"count_rating\"))\n",
    "movies_df = movies_df.join(ratings_df, on = \"movieId\").select(\"movieId\", \"title\", \"genresMatrix\", \\\n",
    "                                                              \"mean_rating\", \"count_rating\")\n",
    "\n",
    "def getYear(title):\n",
    "    result = re.search(r'\\(\\d{4}\\)', title)\n",
    "    if result:\n",
    "        found = result.group(0).strip('(').strip(')')\n",
    "    else: \n",
    "        found = 0\n",
    "    return int(found)\n",
    "\n",
    "udf_parse_year = udf(lambda str: getYear(str), IntegerType())\n",
    "movies_df = movies_df.withColumn(\"year\", udf_parse_year(col(\"title\")))\n",
    "\n",
    "from pyspark.sql.functions import regexp_replace\n",
    "movies_df = movies_df.withColumn(\"title\", regexp_replace(\"title\", \"\\(\\d{4}\\)\", \"\"))"
   ]
  },
  {
   "cell_type": "code",
   "execution_count": 2,
   "metadata": {},
   "outputs": [],
   "source": [
    "from pyspark.ml.feature import Tokenizer, StopWordsRemover\n",
    "from pyspark.sql.functions import concat, collect_set, udf, when\n",
    "from pyspark.sql.types import ArrayType, StringType\n",
    "from functools import reduce\n",
    "\n",
    "# Tokenize text\n",
    "tokenizer = Tokenizer(inputCol='tag', outputCol='tags_token')\n",
    "df_words_token = tokenizer.transform(tags_df).select('movieId', 'tags_token')\n",
    "\n",
    "# Remove stop words\n",
    "remover = StopWordsRemover(inputCol='tags_token', outputCol='tags_clean')\n",
    "df_words_no_stopw = remover.transform(df_words_token).select(\"movieId\", \"tags_clean\")\n",
    "\n",
    "def fudf(val):\n",
    "    return reduce (lambda x, y:x+y, val)\n",
    "\n",
    "flattenUdf = udf(fudf, ArrayType(StringType()))\n",
    "\n",
    "df_words_no_stopw = df_words_no_stopw.groupBy(\"movieId\").agg(collect_set(\"tags_clean\")).select(\"movieId\", \\\n",
    "                        flattenUdf(\"collect_set(tags_clean)\").alias(\"tags_clean\"))\n",
    "\n",
    "movies_df = movies_df.join(df_words_no_stopw, on=\"movieId\", how=\"left\").cache()"
   ]
  },
  {
   "cell_type": "markdown",
   "metadata": {},
   "source": [
    "Compute the item feature vector\n",
    "------"
   ]
  },
  {
   "cell_type": "code",
   "execution_count": 3,
   "metadata": {},
   "outputs": [],
   "source": [
    "genresSimilarityWeight = 0.8\n",
    "tagsSimilarityWeight = 2\n",
    "titleSimilarityWeight = 1\n",
    "yearDistanceWeight = 0.1\n",
    "ratingAvgWeight = 0.2"
   ]
  },
  {
   "cell_type": "markdown",
   "metadata": {},
   "source": [
    "Check similarity of movies\n",
    "------"
   ]
  },
  {
   "cell_type": "markdown",
   "metadata": {},
   "source": [
    "Step 4. Compute the cosine similarities and predict item ratings\n",
    "--------"
   ]
  },
  {
   "cell_type": "code",
   "execution_count": 4,
   "metadata": {},
   "outputs": [
    {
     "name": "stdout",
     "output_type": "stream",
     "text": [
      "+-------+--------------------+------------------+\n",
      "|movieId|               title|        similarity|\n",
      "+-------+--------------------+------------------+\n",
      "|  56367|               Juno |2.3949659384944533|\n",
      "|  69526|Transformers: Rev...|              1.29|\n",
      "|    296|       Pulp Fiction | 1.279413680781759|\n",
      "|    260|Star Wars: Episod...|1.2032151394422312|\n",
      "| 135536|      Suicide Squad |1.1986666666666668|\n",
      "|    160|              Congo | 1.185561403508772|\n",
      "|   7153|Lord of the Rings...|1.1727837837837838|\n",
      "|  79132|          Inception |1.1692867132867133|\n",
      "| 148626|     Big Short, The |1.1533076923076924|\n",
      "|   6788|              Angie |1.1481197846482993|\n",
      "+-------+--------------------+------------------+\n",
      "only showing top 10 rows\n",
      "\n"
     ]
    }
   ],
   "source": [
    "movieId = 471\n",
    "\n",
    "basisGenres = movies_df.filter(movies_df['movieId'] == movieId).select(\"genresMatrix\").collect()[0][0]\n",
    "basisYear = movies_df.filter(movies_df['movieId'] == movieId).select('year').collect()[0][0]\n",
    "basisRatingAvg = movies_df.filter(movies_df['movieId'] == movieId).select('mean_rating').collect()[0][0]\n",
    "\n",
    "from scipy.spatial.distance import cosine\n",
    "from pyspark.sql.functions import col, udf, abs, lit\n",
    "from pyspark.sql.types import DoubleType, FloatType\n",
    "\n",
    "def consineFunc(genresVal):\n",
    "    return float(cosine(basisGenres, genresVal))\n",
    "\n",
    "consineUdf = udf(consineFunc, DoubleType())\n",
    "\n",
    "tagsPandaDf = df_words_no_stopw.toPandas()\n",
    "tagsDict = {}\n",
    "for index, x in tagsPandaDf.iterrows():\n",
    "    wordlist = x['tags_clean']\n",
    "    movieId = x['movieId']\n",
    "    for y in wordlist:\n",
    "        if movieId in tagsDict:\n",
    "            # if y not in tagsDict[movieId]:  # Switched off (we will get a non unique list)\n",
    "            tagsDict[movieId].append(y)\n",
    "        else:\n",
    "            tagsDict[movieId] = [y]\n",
    "               \n",
    "def tagsSimilarityFunc(basisMovieID, checkedMovieID): \n",
    "    dictToCheck = tagsDict\n",
    "    counter = 0\n",
    "    if basisMovieID in dictToCheck: \n",
    "        basisTags = dictToCheck[basisMovieID]\n",
    "        countAllTags = len(basisTags)\n",
    "        basisTagsDict = {}\n",
    "        for x in basisTags:\n",
    "            if x in basisTagsDict:\n",
    "                basisTagsDict[x] += 1\n",
    "            else:\n",
    "                basisTagsDict[x] = 1   \n",
    "        \n",
    "        for x in basisTagsDict:\n",
    "            basisTagsDict[x] = basisTagsDict[x] / countAllTags\n",
    "    else: return 0\n",
    "    \n",
    "    if checkedMovieID in dictToCheck: \n",
    "        checkedTags = dictToCheck[checkedMovieID]\n",
    "        checkedTags = set(checkedTags) # Make the list unique\n",
    "        checkedTags = list(checkedTags)\n",
    "        \n",
    "    else: return 0\n",
    "    \n",
    "    for x in basisTagsDict:\n",
    "        if x in checkedTags: counter += basisTagsDict[x]\n",
    "    return counter    \n",
    "\n",
    "tagsSimilarityUdf = udf(tagsSimilarityFunc, FloatType())\n",
    "\n",
    "moviesWithSim = movies_df.withColumn(\"similarity\", consineUdf(\"genresMatrix\") * genresSimilarityWeight + \\\n",
    "                                    abs(basisRatingAvg - col(\"mean_rating\")) * ratingAvgWeight + \\\n",
    "                                    abs(basisYear - col(\"year\")) / 100 * yearDistanceWeight + \\\n",
    "                                    tagsSimilarityUdf(lit(movieId), col(\"movieId\")) * tagsSimilarityWeight)\n",
    "\n",
    "moviesWithSim.sort(\"similarity\", ascending = False).select(\"movieId\", \"title\", \"similarity\").show(10)"
   ]
  },
  {
   "cell_type": "markdown",
   "metadata": {},
   "source": [
    "References\n",
    "--------------\n",
    "\n",
    "* [Content Based Recommender System in Python](https://medium.com/@tomar.ankur287/content-based-recommender-system-in-python-2e8e94b16b9e)\n",
    "\n",
    "* [Data Science Series: Content-based Recommender System using Azure Databricks](https://visualbi.com/blogs/business-intelligence/data-science/data-science-series-content-based-recommender-system-using-azure-databricks/)\n",
    "\n",
    "* [Movie Recommendation Algorithm](https://www.kaggle.com/bakostamas/movie-recommendation-algorithm)"
   ]
  },
  {
   "cell_type": "code",
   "execution_count": null,
   "metadata": {},
   "outputs": [],
   "source": []
  }
 ],
 "metadata": {
  "kernelspec": {
   "display_name": "Python 3",
   "language": "python",
   "name": "python3"
  },
  "language_info": {
   "codemirror_mode": {
    "name": "ipython",
    "version": 3
   },
   "file_extension": ".py",
   "mimetype": "text/x-python",
   "name": "python",
   "nbconvert_exporter": "python",
   "pygments_lexer": "ipython3",
   "version": "3.7.3"
  }
 },
 "nbformat": 4,
 "nbformat_minor": 1
}
