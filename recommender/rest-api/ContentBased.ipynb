{
 "cells": [
  {
   "cell_type": "code",
   "execution_count": 1,
   "metadata": {},
   "outputs": [
    {
     "data": {
      "text/plain": [
       "[Row(movieId='1', title='Toy Story (1995)', genres='Adventure|Animation|Children|Comedy|Fantasy'),\n",
       " Row(movieId='2', title='Jumanji (1995)', genres='Adventure|Children|Fantasy'),\n",
       " Row(movieId='3', title='Grumpier Old Men (1995)', genres='Comedy|Romance'),\n",
       " Row(movieId='4', title='Waiting to Exhale (1995)', genres='Comedy|Drama|Romance'),\n",
       " Row(movieId='5', title='Father of the Bride Part II (1995)', genres='Comedy'),\n",
       " Row(movieId='6', title='Heat (1995)', genres='Action|Crime|Thriller'),\n",
       " Row(movieId='7', title='Sabrina (1995)', genres='Comedy|Romance'),\n",
       " Row(movieId='8', title='Tom and Huck (1995)', genres='Adventure|Children'),\n",
       " Row(movieId='9', title='Sudden Death (1995)', genres='Action'),\n",
       " Row(movieId='10', title='GoldenEye (1995)', genres='Action|Adventure|Thriller')]"
      ]
     },
     "metadata": {},
     "output_type": "display_data"
    }
   ],
   "source": [
    "from pyspark.sql import SparkSession\n",
    "from pyspark.ml.recommendation import ALS\n",
    "\n",
    "spark = SparkSession.builder.appName(\"SimpleApp\").getOrCreate()\n",
    "\n",
    "movies_df = spark.read.option(\"header\", \"true\").csv(\"data/movies.csv\")\n",
    "links_df = spark.read.option(\"header\", \"true\").csv(\"data/links.csv\")\n",
    "ratings_df = spark.read.option(\"header\", \"true\").csv(\"data/ratings.csv\")\n",
    "tags_df = spark.read.option(\"header\", \"true\").csv(\"data/tags.csv\")\n",
    "\n",
    "display(movies_df.head(10))"
   ]
  },
  {
   "cell_type": "code",
   "execution_count": null,
   "metadata": {},
   "outputs": [],
   "source": []
  }
 ],
 "metadata": {
  "kernelspec": {
   "display_name": "Python 3",
   "language": "python",
   "name": "python3"
  },
  "language_info": {
   "codemirror_mode": {
    "name": "ipython",
    "version": 3
   },
   "file_extension": ".py",
   "mimetype": "text/x-python",
   "name": "python",
   "nbconvert_exporter": "python",
   "pygments_lexer": "ipython3",
   "version": "3.7.3"
  }
 },
 "nbformat": 4,
 "nbformat_minor": 1
}
