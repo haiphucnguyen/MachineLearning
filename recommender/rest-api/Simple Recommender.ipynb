{
 "cells": [
  {
   "cell_type": "markdown",
   "metadata": {},
   "source": [
    "Load datasets\n",
    "------"
   ]
  },
  {
   "cell_type": "code",
   "execution_count": 1,
   "metadata": {},
   "outputs": [
    {
     "name": "stdout",
     "output_type": "stream",
     "text": [
      "+-------+--------------------+--------------------+------+------+\n",
      "|movieId|               title|              genres|imdbId|tmdbId|\n",
      "+-------+--------------------+--------------------+------+------+\n",
      "|      1|    Toy Story (1995)|Adventure|Animati...|114709|   862|\n",
      "|      2|      Jumanji (1995)|Adventure|Childre...|113497|  8844|\n",
      "|      3|Grumpier Old Men ...|      Comedy|Romance|113228| 15602|\n",
      "|      4|Waiting to Exhale...|Comedy|Drama|Romance|114885| 31357|\n",
      "|      5|Father of the Bri...|              Comedy|113041| 11862|\n",
      "|      6|         Heat (1995)|Action|Crime|Thri...|113277|   949|\n",
      "|      7|      Sabrina (1995)|      Comedy|Romance|114319| 11860|\n",
      "|      8| Tom and Huck (1995)|  Adventure|Children|112302| 45325|\n",
      "|      9| Sudden Death (1995)|              Action|114576|  9091|\n",
      "|     10|    GoldenEye (1995)|Action|Adventure|...|113189|   710|\n",
      "|     11|American Presiden...|Comedy|Drama|Romance|112346|  9087|\n",
      "|     12|Dracula: Dead and...|       Comedy|Horror|112896| 12110|\n",
      "|     13|        Balto (1995)|Adventure|Animati...|112453| 21032|\n",
      "|     14|        Nixon (1995)|               Drama|113987| 10858|\n",
      "|     15|Cutthroat Island ...|Action|Adventure|...|112760|  1408|\n",
      "|     16|       Casino (1995)|         Crime|Drama|112641|   524|\n",
      "|     17|Sense and Sensibi...|       Drama|Romance|114388|  4584|\n",
      "|     18|   Four Rooms (1995)|              Comedy|113101|     5|\n",
      "|     19|Ace Ventura: When...|              Comedy|112281|  9273|\n",
      "|     20|  Money Train (1995)|Action|Comedy|Cri...|113845| 11517|\n",
      "+-------+--------------------+--------------------+------+------+\n",
      "only showing top 20 rows\n",
      "\n"
     ]
    }
   ],
   "source": [
    "from pyspark.sql import SparkSession\n",
    "from pyspark.sql.types import DoubleType\n",
    "from pyspark.ml.evaluation import RegressionEvaluator\n",
    "from pyspark.ml.recommendation import ALS\n",
    "\n",
    "spark = SparkSession.builder.appName(\"Recommendation ALS\").getOrCreate()\n",
    "\n",
    "# do something to prove it works\n",
    "movies_df = spark.read.option(\"header\", \"true\").csv(\"data/movies.csv\", inferSchema=True)\n",
    "links_df = spark.read.option(\"header\", \"true\").csv(\"data/links.csv\", inferSchema=True)\n",
    "movies_df = movies_df.join(links_df, on = ['movieId'])\n",
    "ratings_df = spark.read.option(\"header\", \"true\").csv(\"data/ratings.csv\", inferSchema=True)\n",
    "tags_df = spark.read.option(\"header\", \"true\").csv(\"data/tags.csv\", inferSchema=True)\n",
    "\n",
    "movies_df.show()"
   ]
  },
  {
   "cell_type": "markdown",
   "metadata": {},
   "source": [
    "Basic Recommender System\n",
    "----"
   ]
  },
  {
   "cell_type": "code",
   "execution_count": 17,
   "metadata": {},
   "outputs": [
    {
     "name": "stdout",
     "output_type": "stream",
     "text": [
      "Movie: 50\n",
      "Movie: 260\n",
      "Movie: 318\n",
      "Movie: 527\n",
      "Movie: 750\n",
      "Movie: 858\n",
      "Movie: 1213\n",
      "Movie: 1221\n",
      "Movie: 2959\n",
      "Movie: 58559\n"
     ]
    }
   ],
   "source": [
    "from pyspark.sql.functions import mean\n",
    "from pyspark.sql.functions import col\n",
    "from pyspark.sql.functions import count\n",
    "\n",
    "group_movies = ratings_df.groupBy(\"movieId\").agg(mean(\"rating\").alias(\"average_rating\"), \\\n",
    "                                                 count(\"rating\").alias(\"count_rating\"))\n",
    "C = group_movies.agg(mean(\"average_rating\")).collect()[0][0]\n",
    "group_movies = group_movies.filter(group_movies[\"count_rating\"] > 10)\n",
    "\n",
    "group_movies = group_movies.withColumn(\"weighted_average\", col(\"count_rating\")*col(\"average_rating\") \\\n",
    "                                       / (col(\"count_rating\") + 10) + 10*C / (col(\"count_rating\") + 10))\n",
    "group_movies = group_movies.select(\"movieId\", \"weighted_average\").orderBy(\"weighted_average\", \\\n",
    "                                                                          ascending=False).limit(10)\n",
    "trend_movies = group_movies.join(movies_df, on=\"movieId\").select(\"movieId\", \"title\", col(\"weighted_average\")\\\n",
    "                                                                 .alias(\"weight\"))\n",
    "trend_movies_list = [list(row) for row in trend_movies.collect()]\n",
    "for movie in trend_movies_list:\n",
    "    print(\"Movie: {}\".format(movie[0]))"
   ]
  },
  {
   "cell_type": "markdown",
   "metadata": {},
   "source": [
    "Trend movies for genres\n",
    "---------------"
   ]
  },
  {
   "cell_type": "code",
   "execution_count": 33,
   "metadata": {},
   "outputs": [
    {
     "name": "stdout",
     "output_type": "stream",
     "text": [
      "+-------+--------------------+------------------+\n",
      "|movieId|               title|  weighted_average|\n",
      "+-------+--------------------+------------------+\n",
      "|     50|Usual Suspects, T...| 4.192170480131353|\n",
      "|    296| Pulp Fiction (1994)|  4.16758511907921|\n",
      "|    318|Shawshank Redempt...| 4.393347042043149|\n",
      "|    858|Godfather, The (1...|4.2382400136045035|\n",
      "|   1213|   Goodfellas (1990)|  4.17738590255963|\n",
      "|   1221|Godfather: Part I...| 4.187945919051148|\n",
      "|   2329|American History ...| 4.148377573727408|\n",
      "|   2959|   Fight Club (1999)|  4.22861615240399|\n",
      "|  48516|Departed, The (2006)|4.1677306217787145|\n",
      "|  58559|Dark Knight, The ...| 4.176883539296286|\n",
      "+-------+--------------------+------------------+\n",
      "\n"
     ]
    }
   ],
   "source": [
    "from pyspark.sql.functions import arrays_zip, col, explode, udf\n",
    "from pyspark.sql.types import ArrayType, StringType\n",
    "\n",
    "def parse_genres(str):\n",
    "    return str.split(\"|\")\n",
    "\n",
    "udf_parse_genres = udf(lambda str: parse_genres(str), ArrayType(StringType()))\n",
    "new_movies_df = movies_df.select(\"movieId\", \"title\", udf_parse_genres(\"genres\").alias(\"genre\"))\n",
    "new_movies_df = new_movies_df.withColumn(\"genre\", explode(\"genre\"))\n",
    "\n",
    "genres = [\"Crime\", \"Romance\", \"Thriller\", \"Adventure\", \"Drama\", \"War\", \"Documentary\", \"Fantasy\", \"Mystery\", \\\n",
    "         \"Musical\", \"Animation\", \"Film-Noir\", \"(no genres listed)\", \"IMAX\", \"Horror\", \"Western\", \\\n",
    "         \"Comedy\", \"Children\", \"Action\", \"Sci-Fi\"]\n",
    "\n",
    "genre = \"Crime\"\n",
    "genre_movies_df = new_movies_df.filter(new_movies_df[\"genre\"] == genre).select(\"movieId\", \"title\")\n",
    "\n",
    "genre_ratings_df = ratings_df.join(genre_movies_df, on = \"movieId\", how = \"inner\")\n",
    "\n",
    "genre_group_movies = genre_ratings_df.groupBy(\"movieId\").agg(mean(\"rating\").alias(\"average_rating\"), \\\n",
    "                                                 count(\"rating\").alias(\"count_rating\"))\n",
    "genre_C = genre_group_movies.agg(mean(\"average_rating\")).collect()[0][0]\n",
    "genre_group_movies = genre_group_movies.filter(genre_group_movies[\"count_rating\"] > 10)\n",
    "\n",
    "genre_group_movies = genre_group_movies.withColumn(\"weighted_average\", col(\"count_rating\")*col(\"average_rating\") \\\n",
    "                                       / (col(\"count_rating\") + 10) + 10*C / (col(\"count_rating\") + 10))\n",
    "genre_group_movies = genre_group_movies.select(\"movieId\", \"weighted_average\").\\\n",
    "    orderBy(\"weighted_average\", ascending=False).limit(10)\n",
    "genre_trend_movies = genre_group_movies.join(genre_movies_df, on = \"movieId\", how = \"inner\").\\\n",
    "    select(\"movieId\", \"title\", \"weighted_average\")\n",
    "genre_trend_movies.show()"
   ]
  },
  {
   "cell_type": "markdown",
   "metadata": {},
   "source": [
    "References\n",
    "-----\n",
    "\n",
    "[Beginner’s Recommendation Systems with Python](https://towardsdatascience.com/beginners-recommendation-systems-with-python-ee1b08d2efb6)"
   ]
  }
 ],
 "metadata": {
  "kernelspec": {
   "display_name": "Python 3",
   "language": "python",
   "name": "python3"
  },
  "language_info": {
   "codemirror_mode": {
    "name": "ipython",
    "version": 3
   },
   "file_extension": ".py",
   "mimetype": "text/x-python",
   "name": "python",
   "nbconvert_exporter": "python",
   "pygments_lexer": "ipython3",
   "version": "3.7.3"
  },
  "pycharm": {
   "stem_cell": {
    "cell_type": "raw",
    "source": [],
    "metadata": {
     "collapsed": false
    }
   }
  }
 },
 "nbformat": 4,
 "nbformat_minor": 2
}