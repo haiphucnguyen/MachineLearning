{
 "cells": [
  {
   "cell_type": "code",
   "execution_count": 1,
   "metadata": {},
   "outputs": [
    {
     "name": "stdout",
     "output_type": "stream",
     "text": [
      "+-------+--------------------+--------------------+------+------+\n",
      "|movieId|               title|              genres|imdbId|tmdbId|\n",
      "+-------+--------------------+--------------------+------+------+\n",
      "|      1|    Toy Story (1995)|Adventure|Animati...|114709|   862|\n",
      "|      2|      Jumanji (1995)|Adventure|Childre...|113497|  8844|\n",
      "|      3|Grumpier Old Men ...|      Comedy|Romance|113228| 15602|\n",
      "|      4|Waiting to Exhale...|Comedy|Drama|Romance|114885| 31357|\n",
      "|      5|Father of the Bri...|              Comedy|113041| 11862|\n",
      "|      6|         Heat (1995)|Action|Crime|Thri...|113277|   949|\n",
      "|      7|      Sabrina (1995)|      Comedy|Romance|114319| 11860|\n",
      "|      8| Tom and Huck (1995)|  Adventure|Children|112302| 45325|\n",
      "|      9| Sudden Death (1995)|              Action|114576|  9091|\n",
      "|     10|    GoldenEye (1995)|Action|Adventure|...|113189|   710|\n",
      "|     11|American Presiden...|Comedy|Drama|Romance|112346|  9087|\n",
      "|     12|Dracula: Dead and...|       Comedy|Horror|112896| 12110|\n",
      "|     13|        Balto (1995)|Adventure|Animati...|112453| 21032|\n",
      "|     14|        Nixon (1995)|               Drama|113987| 10858|\n",
      "|     15|Cutthroat Island ...|Action|Adventure|...|112760|  1408|\n",
      "|     16|       Casino (1995)|         Crime|Drama|112641|   524|\n",
      "|     17|Sense and Sensibi...|       Drama|Romance|114388|  4584|\n",
      "|     18|   Four Rooms (1995)|              Comedy|113101|     5|\n",
      "|     19|Ace Ventura: When...|              Comedy|112281|  9273|\n",
      "|     20|  Money Train (1995)|Action|Comedy|Cri...|113845| 11517|\n",
      "+-------+--------------------+--------------------+------+------+\n",
      "only showing top 20 rows\n",
      "\n",
      "root\n",
      " |-- userId: integer (nullable = true)\n",
      " |-- movieId: integer (nullable = true)\n",
      " |-- rating: double (nullable = true)\n",
      " |-- timestamp: integer (nullable = true)\n",
      " |-- prediction: float (nullable = false)\n",
      "\n",
      "+------+-------+------+----------+-----------+\n",
      "|userId|movieId|rating| timestamp| prediction|\n",
      "+------+-------+------+----------+-----------+\n",
      "|   295|   1488|   5.0|1320064590|   -1.45261|\n",
      "|   545|   1438|   4.0|1240358568| -1.4298754|\n",
      "|   143|   8643|   3.0|1444881338| -1.1383566|\n",
      "|   259|   7155|   5.0|1146845538| -1.1248024|\n",
      "|   344|   2712|   4.0|1420497247| -1.1036606|\n",
      "|   506|  49286|   1.0|1424487024| -1.0701857|\n",
      "|   406|   2722|   3.5|1296959267| -1.0408036|\n",
      "|    41| 111659|   1.0|1458940199| -0.8843404|\n",
      "|   571|   1971|   2.0| 966901010|-0.82952857|\n",
      "|   270|    762|   3.0| 853918942| -0.8188642|\n",
      "+------+-------+------+----------+-----------+\n",
      "only showing top 10 rows\n",
      "\n",
      "Root-mean-square error = 1.060536927365283\n"
     ]
    }
   ],
   "source": [
    "from pyspark.sql import SparkSession\n",
    "from pyspark.sql.types import DoubleType\n",
    "from pyspark.ml.evaluation import RegressionEvaluator\n",
    "from pyspark.ml.recommendation import ALS\n",
    "\n",
    "spark = SparkSession.builder.appName(\"Recommendation ALS\").getOrCreate()\n",
    "\n",
    "# do something to prove it works\n",
    "movies_df = spark.read.option(\"header\", \"true\").csv(\"data/movies.csv\", inferSchema=True)\n",
    "links_df = spark.read.option(\"header\", \"true\").csv(\"data/links.csv\", inferSchema=True)\n",
    "movies_df = movies_df.join(links_df, on = ['movieId'])\n",
    "ratings_df = spark.read.option(\"header\", \"true\").csv(\"data/ratings.csv\", inferSchema=True)\n",
    "tags_df = spark.read.option(\"header\", \"true\").csv(\"data/tags.csv\", inferSchema=True)\n",
    "\n",
    "movies_df.show()\n",
    "\n",
    "(training, test) = ratings_df.randomSplit([0.8, 0.2])\n",
    "# Build the recommendation model using ALS on the training data\n",
    "# Note we set cold start strategy to 'drop' to ensure we don't get NaN evaluation metrics\n",
    "als = ALS(maxIter=5, regParam=0.01, userCol=\"userId\", itemCol=\"movieId\", ratingCol=\"rating\",\n",
    "          coldStartStrategy=\"drop\")\n",
    "model = als.fit(training)\n",
    "\n",
    "\n",
    "# Evaluate the model by computing the RMSE on the test data\n",
    "predictions = model.transform(test)\n",
    "predictions.printSchema()\n",
    "predictions.orderBy('prediction').show(10)\n",
    "evaluator = RegressionEvaluator(metricName=\"rmse\", labelCol=\"rating\",\n",
    "                                predictionCol=\"prediction\")\n",
    "rmse = evaluator.evaluate(predictions)\n",
    "print(\"Root-mean-square error = \" + str(rmse))"
   ]
  },
  {
   "cell_type": "markdown",
   "metadata": {},
   "source": [
    "Select the random userid, for example userid=1. Filter all movies that has not been watched by this user"
   ]
  },
  {
   "cell_type": "code",
   "execution_count": 31,
   "metadata": {},
   "outputs": [
    {
     "name": "stdout",
     "output_type": "stream",
     "text": [
      "[4678, 44694, 64575, 26131, 31878, 80906, 2303, 1235, 177593, 2360]\n",
      "+-------+--------------------+--------------------+-------+------+\n",
      "|movieId|               title|              genres| imdbId|tmdbId|\n",
      "+-------+--------------------+--------------------+-------+------+\n",
      "|   1235|Harold and Maude ...|Comedy|Drama|Romance|  67185|   343|\n",
      "|   2303|    Nashville (1975)|       Drama|Musical|  73440|  3121|\n",
      "|   2360|Celebration, The ...|               Drama| 154420|   309|\n",
      "|   4678|          UHF (1989)|              Comedy|  98546| 11959|\n",
      "|  26131|Battle of Algiers...|           Drama|War|  58946| 17295|\n",
      "|  31878|Kung Fu Hustle (G...|       Action|Comedy| 373074|  9470|\n",
      "|  44694|       Volver (2006)|        Comedy|Drama| 441909|   219|\n",
      "|  64575|        Doubt (2008)|       Drama|Mystery| 918927| 14359|\n",
      "|  80906|   Inside Job (2010)|         Documentary|1645089| 44639|\n",
      "| 177593|Three Billboards ...|         Crime|Drama|5027774|359940|\n",
      "+-------+--------------------+--------------------+-------+------+\n",
      "\n"
     ]
    }
   ],
   "source": [
    "userId = 1\n",
    "users = ratings_df.filter(ratings_df[\"userId\"] == userId).select(\"userId\").distinct()\n",
    "userSubsetRecs = model.recommendForUserSubset(users, 10)\n",
    "recommendations = userSubsetRecs.select(\"recommendations\").collect()[0][0]\n",
    "\n",
    "movieIds = []\n",
    "for recommendation in recommendations:\n",
    "    movieIds.append(recommendation[0])\n",
    "\n",
    "print(movieIds)\n",
    "movies_df.filter(movies_df[\"movieId\"].isin(movieIds)).show()"
   ]
  },
  {
   "cell_type": "code",
   "execution_count": null,
   "metadata": {},
   "outputs": [],
   "source": []
  }
 ],
 "metadata": {
  "kernelspec": {
   "display_name": "Python 3",
   "language": "python",
   "name": "python3"
  },
  "language_info": {
   "codemirror_mode": {
    "name": "ipython",
    "version": 3
   },
   "file_extension": ".py",
   "mimetype": "text/x-python",
   "name": "python",
   "nbconvert_exporter": "python",
   "pygments_lexer": "ipython3",
   "version": "3.7.3"
  }
 },
 "nbformat": 4,
 "nbformat_minor": 1
}
