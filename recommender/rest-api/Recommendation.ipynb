{
 "cells": [
  {
   "cell_type": "code",
   "execution_count": 1,
   "metadata": {},
   "outputs": [
    {
     "name": "stdout",
     "output_type": "stream",
     "text": [
      "+-------+--------------------+--------------------+------+------+\n",
      "|movieId|               title|              genres|imdbId|tmdbId|\n",
      "+-------+--------------------+--------------------+------+------+\n",
      "|      1|    Toy Story (1995)|Adventure|Animati...|114709|   862|\n",
      "|      2|      Jumanji (1995)|Adventure|Childre...|113497|  8844|\n",
      "|      3|Grumpier Old Men ...|      Comedy|Romance|113228| 15602|\n",
      "|      4|Waiting to Exhale...|Comedy|Drama|Romance|114885| 31357|\n",
      "|      5|Father of the Bri...|              Comedy|113041| 11862|\n",
      "|      6|         Heat (1995)|Action|Crime|Thri...|113277|   949|\n",
      "|      7|      Sabrina (1995)|      Comedy|Romance|114319| 11860|\n",
      "|      8| Tom and Huck (1995)|  Adventure|Children|112302| 45325|\n",
      "|      9| Sudden Death (1995)|              Action|114576|  9091|\n",
      "|     10|    GoldenEye (1995)|Action|Adventure|...|113189|   710|\n",
      "|     11|American Presiden...|Comedy|Drama|Romance|112346|  9087|\n",
      "|     12|Dracula: Dead and...|       Comedy|Horror|112896| 12110|\n",
      "|     13|        Balto (1995)|Adventure|Animati...|112453| 21032|\n",
      "|     14|        Nixon (1995)|               Drama|113987| 10858|\n",
      "|     15|Cutthroat Island ...|Action|Adventure|...|112760|  1408|\n",
      "|     16|       Casino (1995)|         Crime|Drama|112641|   524|\n",
      "|     17|Sense and Sensibi...|       Drama|Romance|114388|  4584|\n",
      "|     18|   Four Rooms (1995)|              Comedy|113101|     5|\n",
      "|     19|Ace Ventura: When...|              Comedy|112281|  9273|\n",
      "|     20|  Money Train (1995)|Action|Comedy|Cri...|113845| 11517|\n",
      "+-------+--------------------+--------------------+------+------+\n",
      "only showing top 20 rows\n",
      "\n",
      "root\n",
      " |-- userId: integer (nullable = true)\n",
      " |-- movieId: integer (nullable = true)\n",
      " |-- rating: double (nullable = true)\n",
      " |-- timestamp: integer (nullable = true)\n",
      " |-- prediction: float (nullable = false)\n",
      "\n",
      "+------+-------+------+----------+----------+\n",
      "|userId|movieId|rating| timestamp|prediction|\n",
      "+------+-------+------+----------+----------+\n",
      "|   301|   2950|   3.0|1211376881|-2.7075396|\n",
      "|   266|   2249|   2.0| 945669675|-2.1276731|\n",
      "|   240|    542|   5.0| 849123125|-1.8000125|\n",
      "|    76|    158|   0.5|1439168954|-1.2668921|\n",
      "|   259|   3910|   5.0|1146845820|-1.1645157|\n",
      "|   567|   1260|   4.0|1525285646|-1.1607598|\n",
      "|     3|     31|   0.5|1306463578|-1.1477346|\n",
      "|   255|   3501|   1.0|1005717433|-1.1331536|\n",
      "|    34|   2953|   2.0|1162048979| -1.082007|\n",
      "|    89|  34332|   4.5|1520409451|-1.0648206|\n",
      "+------+-------+------+----------+----------+\n",
      "only showing top 10 rows\n",
      "\n",
      "Root-mean-square error = 1.1099154591184217\n"
     ]
    }
   ],
   "source": [
    "from pyspark.sql import SparkSession\n",
    "from pyspark.sql.types import DoubleType\n",
    "from pyspark.ml.evaluation import RegressionEvaluator\n",
    "from pyspark.ml.recommendation import ALS\n",
    "\n",
    "spark = SparkSession.builder.appName(\"Recommendation ALS\").getOrCreate()\n",
    "\n",
    "# do something to prove it works\n",
    "movies_df = spark.read.option(\"header\", \"true\").csv(\"data/movies.csv\", inferSchema=True)\n",
    "links_df = spark.read.option(\"header\", \"true\").csv(\"data/links.csv\", inferSchema=True)\n",
    "movies_df = movies_df.join(links_df, on = ['movieId'])\n",
    "ratings_df = spark.read.option(\"header\", \"true\").csv(\"data/ratings.csv\", inferSchema=True)\n",
    "tags_df = spark.read.option(\"header\", \"true\").csv(\"data/tags.csv\", inferSchema=True)\n",
    "\n",
    "movies_df.show()\n",
    "\n",
    "(training, test) = ratings_df.randomSplit([0.8, 0.2])\n",
    "# Build the recommendation model using ALS on the training data\n",
    "# Note we set cold start strategy to 'drop' to ensure we don't get NaN evaluation metrics\n",
    "als = ALS(maxIter=5, regParam=0.01, userCol=\"userId\", itemCol=\"movieId\", ratingCol=\"rating\",\n",
    "          coldStartStrategy=\"drop\")\n",
    "model = als.fit(training)\n",
    "\n",
    "\n",
    "# Evaluate the model by computing the RMSE on the test data\n",
    "predictions = model.transform(test)\n",
    "predictions.printSchema()\n",
    "predictions.orderBy('prediction').show(10)\n",
    "evaluator = RegressionEvaluator(metricName=\"rmse\", labelCol=\"rating\",\n",
    "                                predictionCol=\"prediction\")\n",
    "rmse = evaluator.evaluate(predictions)\n",
    "print(\"Root-mean-square error = \" + str(rmse))"
   ]
  },
  {
   "cell_type": "markdown",
   "metadata": {},
   "source": [
    "Select the random userid, for example userid=1. Filter all movies that has not been watched by this user"
   ]
  },
  {
   "cell_type": "code",
   "execution_count": 2,
   "metadata": {},
   "outputs": [
    {
     "name": "stdout",
     "output_type": "stream",
     "text": [
      "Watch movies 29\n",
      "Total movies 9742\n",
      "+-------+--------------------+--------------------+-------+------+------+-------+------+----------+----------+\n",
      "|movieId|               title|              genres| imdbId|tmdbId|userId|movieId|rating| timestamp|prediction|\n",
      "+-------+--------------------+--------------------+-------+------+------+-------+------+----------+----------+\n",
      "|  63082|Slumdog Millionai...| Crime|Drama|Romance|1010048| 12405|    22|  63082|   0.5|1268726299| 5.5505285|\n",
      "|  87232|X-Men: First Clas...|Action|Adventure|...|1270798| 49538|   258|  87232|   0.5|1534892585|  5.401987|\n",
      "|   2968| Time Bandits (1981)|Adventure|Comedy|...|  81633| 36819|   207|   2968|   0.5|1258547883|  5.370624|\n",
      "|    589|Terminator 2: Jud...|       Action|Sci-Fi| 103064|   280|   393|    589|   0.5|1430505921| 5.0367236|\n",
      "|   8644|     I, Robot (2004)|Action|Adventure|...| 343818|  2048|   393|   8644|   0.5|1430507504| 4.7757516|\n",
      "|   1358|  Sling Blade (1996)|               Drama| 117666| 12498|   129|   1358|   0.5|1167377801| 4.7373066|\n",
      "|  38038|Wallace & Gromit ...|Adventure|Animati...| 312004|   533|    22|  38038|   0.5|1268727279| 4.6442294|\n",
      "|   3253|Wayne's World (1992)|              Comedy| 105793|  8872|    51|   3253|   0.5|1230932099| 4.6157207|\n",
      "| 130634|    Furious 7 (2015)|Action|Crime|Thri...|2820852|168259|   154| 130634|   0.5|1486297255| 4.5735774|\n",
      "|   7099|Nausicaä of the V...|Adventure|Animati...|  87544|    81|   256|   7099|   0.5|1446580031|  4.470472|\n",
      "|   7373|      Hellboy (2004)|Action|Adventure|...| 167190|  1487|   594|   7373|   0.5|1108950822| 4.4620957|\n",
      "|   1614|     In & Out (1997)|              Comedy| 119360| 10806|   426|   1614|   0.5|1451081917| 4.4482317|\n",
      "|   3996|Crouching Tiger, ...|Action|Drama|Romance| 190332|   146|   573|   3996|   0.5|1187044844| 4.3638506|\n",
      "|   4027|O Brother, Where ...|Adventure|Comedy|...| 190590|   134|   105|   4027|   0.5|1447537867|  4.332287|\n",
      "|  59784|Kung Fu Panda (2008)|Action|Animation|...| 441773|  9502|   418|  59784|   0.5|1461868143|  4.285894|\n",
      "|   2617|   Mummy, The (1999)|Action|Adventure|...| 120616|   564|   301|   2617|   0.5|1211378720|  4.264446|\n",
      "|   5528|One Hour Photo (2...|      Drama|Thriller| 265459|  9357|   298|   5528|   0.5|1447598506|  4.209933|\n",
      "|  95510|Amazing Spider-Ma...|Action|Adventure|...| 948470|  1930|   305|  95510|   0.5|1463503215|   4.13815|\n",
      "|   3264|Buffy the Vampire...|Action|Comedy|Horror| 103893| 10206|   207|   3264|   0.5|1258548257| 4.1152964|\n",
      "|   1250|Bridge on the Riv...| Adventure|Drama|War|  50212|   826|   580|   1250|   0.5|1167791001| 4.0996466|\n",
      "+-------+--------------------+--------------------+-------+------+------+-------+------+----------+----------+\n",
      "only showing top 20 rows\n",
      "\n"
     ]
    }
   ],
   "source": [
    "from pyspark.sql import SQLContext\n",
    "\n",
    "userId = 496\n",
    "watched_movies = ratings_df.filter(ratings_df['userId'] == userId).select(\"movieId\")\n",
    "\n",
    "print(\"Watch movies {}\".format(watched_movies.count()))\n",
    "print(\"Total movies {}\".format(movies_df.count()))\n",
    "\n",
    "sqlContext = SQLContext(spark.sparkContext)\n",
    "watched_movies.registerTempTable('watchedMovies')\n",
    "movies_df.registerTempTable(\"movies\")\n",
    "predictions.registerTempTable(\"predictions\")\n",
    "\n",
    "unwatched_movies = sqlContext.sql(\"SELECT * FROM movies WHERE movies.movieId NOT IN (SELECT movieId FROM watchedMovies)\")\n",
    "unwatched_movies.count()\n",
    "\n",
    "unwatched_movies.registerTempTable('unwatchedMovies')\n",
    "\n",
    "unwatched_movies_rating = sqlContext.sql(\"SELECT * FROM unwatchedMovies INNER JOIN predictions WHERE unwatchedMovies.movieId = predictions.movieId order by predictions.rating, predictions.prediction DESC\")\n",
    "unwatched_movies_rating.show()"
   ]
  },
  {
   "cell_type": "code",
   "execution_count": 3,
   "metadata": {},
   "outputs": [
    {
     "name": "stdout",
     "output_type": "stream",
     "text": [
      "+-------+--------------------+--------------------+------+------+\n",
      "|movieId|               title|              genres|imdbId|tmdbId|\n",
      "+-------+--------------------+--------------------+------+------+\n",
      "|      1|    Toy Story (1995)|Adventure|Animati...|114709|   862|\n",
      "|      2|      Jumanji (1995)|Adventure|Childre...|113497|  8844|\n",
      "|      3|Grumpier Old Men ...|      Comedy|Romance|113228| 15602|\n",
      "|      4|Waiting to Exhale...|Comedy|Drama|Romance|114885| 31357|\n",
      "|      5|Father of the Bri...|              Comedy|113041| 11862|\n",
      "|      6|         Heat (1995)|Action|Crime|Thri...|113277|   949|\n",
      "|      7|      Sabrina (1995)|      Comedy|Romance|114319| 11860|\n",
      "|      8| Tom and Huck (1995)|  Adventure|Children|112302| 45325|\n",
      "|      9| Sudden Death (1995)|              Action|114576|  9091|\n",
      "|     10|    GoldenEye (1995)|Action|Adventure|...|113189|   710|\n",
      "|     11|American Presiden...|Comedy|Drama|Romance|112346|  9087|\n",
      "|     12|Dracula: Dead and...|       Comedy|Horror|112896| 12110|\n",
      "|     13|        Balto (1995)|Adventure|Animati...|112453| 21032|\n",
      "|     14|        Nixon (1995)|               Drama|113987| 10858|\n",
      "|     15|Cutthroat Island ...|Action|Adventure|...|112760|  1408|\n",
      "|     16|       Casino (1995)|         Crime|Drama|112641|   524|\n",
      "|     17|Sense and Sensibi...|       Drama|Romance|114388|  4584|\n",
      "|     18|   Four Rooms (1995)|              Comedy|113101|     5|\n",
      "|     19|Ace Ventura: When...|              Comedy|112281|  9273|\n",
      "|     20|  Money Train (1995)|Action|Comedy|Cri...|113845| 11517|\n",
      "+-------+--------------------+--------------------+------+------+\n",
      "only showing top 20 rows\n",
      "\n"
     ]
    }
   ],
   "source": [
    "unwatched_movies.show()"
   ]
  },
  {
   "cell_type": "code",
   "execution_count": 4,
   "metadata": {},
   "outputs": [
    {
     "name": "stdout",
     "output_type": "stream",
     "text": [
      "63082 Slumdog Millionaire (2008) 5.550528526306152\n",
      "87232 X-Men: First Class (2011) 5.401987075805664\n",
      "2968 Time Bandits (1981) 5.37062406539917\n",
      "589 Terminator 2: Judgment Day (1991) 5.036723613739014\n",
      "8644 I, Robot (2004) 4.77575159072876\n"
     ]
    }
   ],
   "source": [
    "recommendedMovies = unwatched_movies_rating.take(5)\n",
    "for r in recommendedMovies:\n",
    "    print(r['movieId'], r['title'], r['prediction'])\n",
    "\n"
   ]
  },
  {
   "cell_type": "code",
   "execution_count": null,
   "metadata": {},
   "outputs": [],
   "source": []
  }
 ],
 "metadata": {
  "kernelspec": {
   "display_name": "Python 3",
   "language": "python",
   "name": "python3"
  },
  "language_info": {
   "codemirror_mode": {
    "name": "ipython",
    "version": 3
   },
   "file_extension": ".py",
   "mimetype": "text/x-python",
   "name": "python",
   "nbconvert_exporter": "python",
   "pygments_lexer": "ipython3",
   "version": "3.7.3"
  }
 },
 "nbformat": 4,
 "nbformat_minor": 1
}
