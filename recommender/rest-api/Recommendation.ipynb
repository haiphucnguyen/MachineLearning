{
 "cells": [
  {
   "cell_type": "code",
   "execution_count": 1,
   "metadata": {},
   "outputs": [
    {
     "name": "stdout",
     "output_type": "stream",
     "text": [
      "+-------+--------------------+--------------------+------+------+\n",
      "|movieId|               title|              genres|imdbId|tmdbId|\n",
      "+-------+--------------------+--------------------+------+------+\n",
      "|      1|    Toy Story (1995)|Adventure|Animati...|114709|   862|\n",
      "|      2|      Jumanji (1995)|Adventure|Childre...|113497|  8844|\n",
      "|      3|Grumpier Old Men ...|      Comedy|Romance|113228| 15602|\n",
      "|      4|Waiting to Exhale...|Comedy|Drama|Romance|114885| 31357|\n",
      "|      5|Father of the Bri...|              Comedy|113041| 11862|\n",
      "|      6|         Heat (1995)|Action|Crime|Thri...|113277|   949|\n",
      "|      7|      Sabrina (1995)|      Comedy|Romance|114319| 11860|\n",
      "|      8| Tom and Huck (1995)|  Adventure|Children|112302| 45325|\n",
      "|      9| Sudden Death (1995)|              Action|114576|  9091|\n",
      "|     10|    GoldenEye (1995)|Action|Adventure|...|113189|   710|\n",
      "|     11|American Presiden...|Comedy|Drama|Romance|112346|  9087|\n",
      "|     12|Dracula: Dead and...|       Comedy|Horror|112896| 12110|\n",
      "|     13|        Balto (1995)|Adventure|Animati...|112453| 21032|\n",
      "|     14|        Nixon (1995)|               Drama|113987| 10858|\n",
      "|     15|Cutthroat Island ...|Action|Adventure|...|112760|  1408|\n",
      "|     16|       Casino (1995)|         Crime|Drama|112641|   524|\n",
      "|     17|Sense and Sensibi...|       Drama|Romance|114388|  4584|\n",
      "|     18|   Four Rooms (1995)|              Comedy|113101|     5|\n",
      "|     19|Ace Ventura: When...|              Comedy|112281|  9273|\n",
      "|     20|  Money Train (1995)|Action|Comedy|Cri...|113845| 11517|\n",
      "+-------+--------------------+--------------------+------+------+\n",
      "only showing top 20 rows\n",
      "\n",
      "root\n",
      " |-- userId: integer (nullable = true)\n",
      " |-- movieId: integer (nullable = true)\n",
      " |-- rating: double (nullable = true)\n",
      " |-- timestamp: integer (nullable = true)\n",
      " |-- prediction: float (nullable = false)\n",
      "\n",
      "+------+-------+------+----------+-----------+\n",
      "|userId|movieId|rating| timestamp| prediction|\n",
      "+------+-------+------+----------+-----------+\n",
      "|   461|   1246|   4.5|1505935259| -2.4306872|\n",
      "|   472|   3087|   3.0|1345842950| -1.6881052|\n",
      "|   506|  47629|   4.0|1424487000| -1.6643558|\n",
      "|   502|    520|   5.0|1111758060| -1.5471945|\n",
      "|   223|   1342|   1.0|1226209388| -1.3624595|\n",
      "|     3|   5048|   0.5|1306464284| -1.1240181|\n",
      "|   359|   2384|   3.5|1192499586| -1.0960561|\n",
      "|   517|   6550|   0.5|1488398440| -1.0872129|\n",
      "|   506|   7444|   3.0|1424487747|-0.97734684|\n",
      "|   153| 173145|   0.5|1525553026|-0.95751274|\n",
      "+------+-------+------+----------+-----------+\n",
      "only showing top 10 rows\n",
      "\n",
      "Root-mean-square error = 1.0852137181827575\n"
     ]
    }
   ],
   "source": [
    "from pyspark.sql import SparkSession\n",
    "from pyspark.sql.types import DoubleType\n",
    "from pyspark.ml.evaluation import RegressionEvaluator\n",
    "from pyspark.ml.recommendation import ALS\n",
    "\n",
    "spark = SparkSession.builder.appName(\"Recommendation ALS\").getOrCreate()\n",
    "\n",
    "# do something to prove it works\n",
    "movies_df = spark.read.option(\"header\", \"true\").csv(\"data/movies.csv\", inferSchema=True)\n",
    "links_df = spark.read.option(\"header\", \"true\").csv(\"data/links.csv\", inferSchema=True)\n",
    "movies_df = movies_df.join(links_df, on = ['movieId'])\n",
    "ratings_df = spark.read.option(\"header\", \"true\").csv(\"data/ratings.csv\", inferSchema=True)\n",
    "tags_df = spark.read.option(\"header\", \"true\").csv(\"data/tags.csv\", inferSchema=True)\n",
    "\n",
    "movies_df.show()\n",
    "\n",
    "(training, test) = ratings_df.randomSplit([0.8, 0.2])\n",
    "# Build the recommendation model using ALS on the training data\n",
    "# Note we set cold start strategy to 'drop' to ensure we don't get NaN evaluation metrics\n",
    "als = ALS(maxIter=5, regParam=0.01, userCol=\"userId\", itemCol=\"movieId\", ratingCol=\"rating\",\n",
    "          coldStartStrategy=\"drop\")\n",
    "model = als.fit(training)\n",
    "\n",
    "\n",
    "# Evaluate the model by computing the RMSE on the test data\n",
    "predictions = model.transform(test)\n",
    "predictions.printSchema()\n",
    "predictions.orderBy('prediction').show(10)\n",
    "evaluator = RegressionEvaluator(metricName=\"rmse\", labelCol=\"rating\",\n",
    "                                predictionCol=\"prediction\")\n",
    "rmse = evaluator.evaluate(predictions)\n",
    "print(\"Root-mean-square error = \" + str(rmse))"
   ]
  },
  {
   "cell_type": "markdown",
   "metadata": {},
   "source": [
    "Select the random userid, for example userid=1. Filter all movies that has not been watched by this user"
   ]
  },
  {
   "cell_type": "code",
   "execution_count": 3,
   "metadata": {},
   "outputs": [
    {
     "name": "stdout",
     "output_type": "stream",
     "text": [
      "+------+--------------------+\n",
      "|userId|     recommendations|\n",
      "+------+--------------------+\n",
      "|     1|[[1237, 6.137741]...|\n",
      "+------+--------------------+\n",
      "\n",
      "[1237, 522, 1104, 3451, 1262, 6283, 7587, 5650, 3910, 176371]\n",
      "+-------+--------------------+--------------------+-------+------+\n",
      "|movieId|               title|              genres| imdbId|tmdbId|\n",
      "+-------+--------------------+--------------------+-------+------+\n",
      "|    522|Romper Stomper (1...|        Action|Drama| 105275| 10412|\n",
      "|   1104|Streetcar Named D...|               Drama|  44081|   702|\n",
      "|   1237|Seventh Seal, The...|               Drama|  50976|   490|\n",
      "|   1262|Great Escape, The...|Action|Adventure|...|  57115|  5925|\n",
      "|   3451|Guess Who's Comin...|               Drama|  61735|  1879|\n",
      "|   3910|Dancer in the Dar...|       Drama|Musical| 168629|    16|\n",
      "|   5650| Strange Brew (1983)|              Comedy|  86373| 12921|\n",
      "|   6283|Cowboy Bebop: The...|Action|Animation|...| 275277| 11299|\n",
      "|   7587|Samouraï, Le (God...|Crime|Drama|Thriller|  62229|  5511|\n",
      "| 176371|Blade Runner 2049...|              Sci-Fi|1856101|335984|\n",
      "+-------+--------------------+--------------------+-------+------+\n",
      "\n"
     ]
    }
   ],
   "source": [
    "userId = 1\n",
    "users = ratings_df.filter(ratings_df[\"userId\"] == userId).select(\"userId\").distinct()\n",
    "userSubsetRecs = model.recommendForUserSubset(users, 10)\n",
    "userSubsetRecs.show()\n",
    "recommendations = userSubsetRecs.select(\"recommendations\").collect()[0][0]\n",
    "\n",
    "movieIds = []\n",
    "for recommendation in recommendations:\n",
    "    movieIds.append(recommendation[0])\n",
    "\n",
    "print(movieIds)\n",
    "movies_df.filter(movies_df[\"movieId\"].isin(movieIds)).show()"
   ]
  },
  {
   "cell_type": "code",
   "execution_count": null,
   "metadata": {},
   "outputs": [],
   "source": []
  }
 ],
 "metadata": {
  "kernelspec": {
   "display_name": "Python 3",
   "language": "python",
   "name": "python3"
  },
  "language_info": {
   "codemirror_mode": {
    "name": "ipython",
    "version": 3
   },
   "file_extension": ".py",
   "mimetype": "text/x-python",
   "name": "python",
   "nbconvert_exporter": "python",
   "pygments_lexer": "ipython3",
   "version": "3.7.3"
  }
 },
 "nbformat": 4,
 "nbformat_minor": 1
}
