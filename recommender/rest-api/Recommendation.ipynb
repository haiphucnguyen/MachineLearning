{
 "cells": [
  {
   "cell_type": "code",
   "execution_count": 1,
   "metadata": {},
   "outputs": [
    {
     "name": "stdout",
     "output_type": "stream",
     "text": [
      "+-------+--------------------+--------------------+------+------+\n",
      "|movieId|               title|              genres|imdbId|tmdbId|\n",
      "+-------+--------------------+--------------------+------+------+\n",
      "|      1|    Toy Story (1995)|Adventure|Animati...|114709|   862|\n",
      "|      2|      Jumanji (1995)|Adventure|Childre...|113497|  8844|\n",
      "|      3|Grumpier Old Men ...|      Comedy|Romance|113228| 15602|\n",
      "|      4|Waiting to Exhale...|Comedy|Drama|Romance|114885| 31357|\n",
      "|      5|Father of the Bri...|              Comedy|113041| 11862|\n",
      "|      6|         Heat (1995)|Action|Crime|Thri...|113277|   949|\n",
      "|      7|      Sabrina (1995)|      Comedy|Romance|114319| 11860|\n",
      "|      8| Tom and Huck (1995)|  Adventure|Children|112302| 45325|\n",
      "|      9| Sudden Death (1995)|              Action|114576|  9091|\n",
      "|     10|    GoldenEye (1995)|Action|Adventure|...|113189|   710|\n",
      "|     11|American Presiden...|Comedy|Drama|Romance|112346|  9087|\n",
      "|     12|Dracula: Dead and...|       Comedy|Horror|112896| 12110|\n",
      "|     13|        Balto (1995)|Adventure|Animati...|112453| 21032|\n",
      "|     14|        Nixon (1995)|               Drama|113987| 10858|\n",
      "|     15|Cutthroat Island ...|Action|Adventure|...|112760|  1408|\n",
      "|     16|       Casino (1995)|         Crime|Drama|112641|   524|\n",
      "|     17|Sense and Sensibi...|       Drama|Romance|114388|  4584|\n",
      "|     18|   Four Rooms (1995)|              Comedy|113101|     5|\n",
      "|     19|Ace Ventura: When...|              Comedy|112281|  9273|\n",
      "|     20|  Money Train (1995)|Action|Comedy|Cri...|113845| 11517|\n",
      "+-------+--------------------+--------------------+------+------+\n",
      "only showing top 20 rows\n",
      "\n",
      "root\n",
      " |-- userId: integer (nullable = true)\n",
      " |-- movieId: integer (nullable = true)\n",
      " |-- rating: double (nullable = true)\n",
      " |-- timestamp: integer (nullable = true)\n",
      " |-- prediction: float (nullable = false)\n",
      "\n",
      "+------+-------+------+----------+----------+\n",
      "|userId|movieId|rating| timestamp|prediction|\n",
      "+------+-------+------+----------+----------+\n",
      "|   301|   2950|   3.0|1211376881|-2.7075396|\n",
      "|   266|   2249|   2.0| 945669675|-2.1276731|\n",
      "|   240|    542|   5.0| 849123125|-1.8000125|\n",
      "|    76|    158|   0.5|1439168954|-1.2668921|\n",
      "|   259|   3910|   5.0|1146845820|-1.1645157|\n",
      "|   567|   1260|   4.0|1525285646|-1.1607598|\n",
      "|     3|     31|   0.5|1306463578|-1.1477346|\n",
      "|   255|   3501|   1.0|1005717433|-1.1331536|\n",
      "|    34|   2953|   2.0|1162048979| -1.082007|\n",
      "|    89|  34332|   4.5|1520409451|-1.0648206|\n",
      "+------+-------+------+----------+----------+\n",
      "only showing top 10 rows\n",
      "\n",
      "Root-mean-square error = 1.1099154591184217\n"
     ]
    }
   ],
   "source": [
    "from pyspark.sql import SparkSession\n",
    "from pyspark.sql.types import DoubleType\n",
    "from pyspark.ml.evaluation import RegressionEvaluator\n",
    "from pyspark.ml.recommendation import ALS\n",
    "\n",
    "spark = SparkSession.builder.appName(\"Recommendation ALS\").getOrCreate()\n",
    "\n",
    "# do something to prove it works\n",
    "movies_df = spark.read.option(\"header\", \"true\").csv(\"data/movies.csv\", inferSchema=True)\n",
    "links_df = spark.read.option(\"header\", \"true\").csv(\"data/links.csv\", inferSchema=True)\n",
    "movies_df = movies_df.join(links_df, on = ['movieId'])\n",
    "ratings_df = spark.read.option(\"header\", \"true\").csv(\"data/ratings.csv\", inferSchema=True)\n",
    "tags_df = spark.read.option(\"header\", \"true\").csv(\"data/tags.csv\", inferSchema=True)\n",
    "\n",
    "movies_df.show()\n",
    "\n",
    "(training, test) = ratings_df.randomSplit([0.8, 0.2])\n",
    "# Build the recommendation model using ALS on the training data\n",
    "# Note we set cold start strategy to 'drop' to ensure we don't get NaN evaluation metrics\n",
    "als = ALS(maxIter=5, regParam=0.01, userCol=\"userId\", itemCol=\"movieId\", ratingCol=\"rating\",\n",
    "          coldStartStrategy=\"drop\")\n",
    "model = als.fit(training)\n",
    "\n",
    "\n",
    "# Evaluate the model by computing the RMSE on the test data\n",
    "predictions = model.transform(test)\n",
    "predictions.printSchema()\n",
    "predictions.orderBy('prediction').show(10)\n",
    "evaluator = RegressionEvaluator(metricName=\"rmse\", labelCol=\"rating\",\n",
    "                                predictionCol=\"prediction\")\n",
    "rmse = evaluator.evaluate(predictions)\n",
    "print(\"Root-mean-square error = \" + str(rmse))"
   ]
  },
  {
   "cell_type": "markdown",
   "metadata": {},
   "source": [
    "Select the random userid, for example userid=1. Filter all movies that has not been watched by this user"
   ]
  },
  {
   "cell_type": "code",
   "execution_count": 7,
   "metadata": {},
   "outputs": [
    {
     "name": "stdout",
     "output_type": "stream",
     "text": [
      "Watch movies 29\n",
      "Total movies 9742\n",
      "+-------+--------------------+--------------------+-------+------+------+-------+------+----------+----------+\n",
      "|movieId|               title|              genres| imdbId|tmdbId|userId|movieId|rating| timestamp|prediction|\n",
      "+-------+--------------------+--------------------+-------+------+------+-------+------+----------+----------+\n",
      "| 106489|Hobbit: The Desol...|Adventure|Fantasy...|1170358| 57158|   418| 106489|   3.0|1461865760| 10.648029|\n",
      "| 142488|    Spotlight (2015)|            Thriller|1895587|314365|   196| 142488|   5.0|1460954012| 9.8212805|\n",
      "|    232|Eat Drink Man Wom...|Comedy|Drama|Romance| 111797| 10451|     5|    232|   4.0| 847435292|  8.608839|\n",
      "|   3157|Stuart Little (1999)|Children|Comedy|F...| 164912| 10137|   255|   3157|   1.0|1005717292|  7.532286|\n",
      "|   1372|Star Trek VI: The...|Action|Mystery|Sc...| 102975|   174|    75|   1372|   4.0|1158968308| 7.4608965|\n",
      "|   3261|      Singles (1992)|Comedy|Drama|Romance| 105415| 11068|   568|   3261|   3.0|1243575983| 7.3853993|\n",
      "|   3740|Big Trouble in Li...|Action|Adventure|...|  90728|  6978|   207|   3740|   3.5|1258548262|  7.382084|\n",
      "|     14|        Nixon (1995)|               Drama| 113987| 10858|   544|     14|   3.0| 850688581| 7.1534715|\n",
      "|      5|Father of the Bri...|              Comedy| 113041| 11862|   147|      5|   4.5|1203267700| 7.1364064|\n",
      "|    527|Schindler's List ...|           Drama|War| 108052|   424|   461|    527|   3.5|1505935217| 6.9912386|\n",
      "|  92259| Intouchables (2011)|        Comedy|Drama|1675434| 77338|   471|  92259|   4.5|1496668933| 6.7602158|\n",
      "|   1285|     Heathers (1989)|              Comedy|  97493|  2640|   285|   1285|   2.5|1483031785|  6.700329|\n",
      "|   2565|King and I, The (...|Drama|Musical|Rom...|  49408| 16520|    20|   2565|   3.5|1054147376|  6.651491|\n",
      "|   1172|Cinema Paradiso (...|               Drama|  95765| 11216|   587|   1172|   5.0| 953137693| 6.5901337|\n",
      "|    389|Colonel Chabert, ...|   Drama|Romance|War| 109454| 41580|   467|    389|   4.0| 919672275|  6.528578|\n",
      "|   1104|Streetcar Named D...|               Drama|  44081|   702|   285|   1104|   5.0|1453074758|  6.517245|\n",
      "|   1104|Streetcar Named D...|               Drama|  44081|   702|   568|   1104|   5.0|1243575815| 6.5083847|\n",
      "|  69757|(500) Days of Sum...|Comedy|Drama|Romance|1022603| 19913|    92|  69757|   4.0|1294941763|  6.498135|\n",
      "|    333|    Tommy Boy (1995)|              Comedy| 114694| 11381|     2|    333|   4.0|1445715029|  6.495837|\n",
      "|   8644|     I, Robot (2004)|Action|Adventure|...| 343818|  2048|   413|   8644|   2.5|1484439953|  6.495312|\n",
      "+-------+--------------------+--------------------+-------+------+------+-------+------+----------+----------+\n",
      "only showing top 20 rows\n",
      "\n"
     ]
    }
   ],
   "source": [
    "from pyspark.sql import SQLContext\n",
    "\n",
    "userId = 496\n",
    "watched_movies = ratings_df.filter(ratings_df['userId'] == userId).select(\"movieId\")\n",
    "\n",
    "print(\"Watch movies {}\".format(watched_movies.count()))\n",
    "print(\"Total movies {}\".format(movies_df.count()))\n",
    "\n",
    "sqlContext = SQLContext(spark.sparkContext)\n",
    "watched_movies.registerTempTable('watchedMovies')\n",
    "movies_df.registerTempTable(\"movies\")\n",
    "predictions.registerTempTable(\"predictions\")\n",
    "\n",
    "unwatched_movies = sqlContext.sql(\"SELECT * FROM movies WHERE movies.movieId NOT IN (SELECT movieId FROM watchedMovies)\")\n",
    "unwatched_movies.count()\n",
    "\n",
    "unwatched_movies.registerTempTable('unwatchedMovies')\n",
    "\n",
    "unwatched_movies_rating = sqlContext.sql(\"SELECT * FROM unwatchedMovies INNER JOIN predictions ON unwatchedMovies.movieId = predictions.movieId order by predictions.prediction DESC, predictions.rating DESC\")\n",
    "unwatched_movies_rating.show()"
   ]
  },
  {
   "cell_type": "code",
   "execution_count": 3,
   "metadata": {},
   "outputs": [
    {
     "name": "stdout",
     "output_type": "stream",
     "text": [
      "+-------+--------------------+--------------------+------+------+\n",
      "|movieId|               title|              genres|imdbId|tmdbId|\n",
      "+-------+--------------------+--------------------+------+------+\n",
      "|      1|    Toy Story (1995)|Adventure|Animati...|114709|   862|\n",
      "|      2|      Jumanji (1995)|Adventure|Childre...|113497|  8844|\n",
      "|      3|Grumpier Old Men ...|      Comedy|Romance|113228| 15602|\n",
      "|      4|Waiting to Exhale...|Comedy|Drama|Romance|114885| 31357|\n",
      "|      5|Father of the Bri...|              Comedy|113041| 11862|\n",
      "|      6|         Heat (1995)|Action|Crime|Thri...|113277|   949|\n",
      "|      7|      Sabrina (1995)|      Comedy|Romance|114319| 11860|\n",
      "|      8| Tom and Huck (1995)|  Adventure|Children|112302| 45325|\n",
      "|      9| Sudden Death (1995)|              Action|114576|  9091|\n",
      "|     10|    GoldenEye (1995)|Action|Adventure|...|113189|   710|\n",
      "|     11|American Presiden...|Comedy|Drama|Romance|112346|  9087|\n",
      "|     12|Dracula: Dead and...|       Comedy|Horror|112896| 12110|\n",
      "|     13|        Balto (1995)|Adventure|Animati...|112453| 21032|\n",
      "|     14|        Nixon (1995)|               Drama|113987| 10858|\n",
      "|     15|Cutthroat Island ...|Action|Adventure|...|112760|  1408|\n",
      "|     16|       Casino (1995)|         Crime|Drama|112641|   524|\n",
      "|     17|Sense and Sensibi...|       Drama|Romance|114388|  4584|\n",
      "|     18|   Four Rooms (1995)|              Comedy|113101|     5|\n",
      "|     19|Ace Ventura: When...|              Comedy|112281|  9273|\n",
      "|     20|  Money Train (1995)|Action|Comedy|Cri...|113845| 11517|\n",
      "+-------+--------------------+--------------------+------+------+\n",
      "only showing top 20 rows\n",
      "\n"
     ]
    }
   ],
   "source": [
    "unwatched_movies.show()"
   ]
  },
  {
   "cell_type": "code",
   "execution_count": 8,
   "metadata": {},
   "outputs": [
    {
     "name": "stdout",
     "output_type": "stream",
     "text": [
      "106489 Hobbit: The Desolation of Smaug, The (2013) 10.648029327392578\n",
      "142488 Spotlight (2015) 9.821280479431152\n",
      "232 Eat Drink Man Woman (Yin shi nan nu) (1994) 8.60883903503418\n",
      "3157 Stuart Little (1999) 7.532286167144775\n",
      "1372 Star Trek VI: The Undiscovered Country (1991) 7.4608964920043945\n"
     ]
    }
   ],
   "source": [
    "recommendedMovies = unwatched_movies_rating.take(5)\n",
    "for r in recommendedMovies:\n",
    "    print(r['movieId'], r['title'], r['prediction'])\n",
    "\n"
   ]
  },
  {
   "cell_type": "code",
   "execution_count": null,
   "metadata": {},
   "outputs": [],
   "source": []
  }
 ],
 "metadata": {
  "kernelspec": {
   "display_name": "Python 3",
   "language": "python",
   "name": "python3"
  },
  "language_info": {
   "codemirror_mode": {
    "name": "ipython",
    "version": 3
   },
   "file_extension": ".py",
   "mimetype": "text/x-python",
   "name": "python",
   "nbconvert_exporter": "python",
   "pygments_lexer": "ipython3",
   "version": "3.7.3"
  }
 },
 "nbformat": 4,
 "nbformat_minor": 1
}
