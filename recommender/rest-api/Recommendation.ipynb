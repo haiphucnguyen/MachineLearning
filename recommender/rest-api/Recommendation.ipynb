{
 "cells": [
  {
   "cell_type": "code",
   "execution_count": 1,
   "metadata": {},
   "outputs": [
    {
     "name": "stdout",
     "output_type": "stream",
     "text": [
      "+-------+--------------------+--------------------+------+------+\n",
      "|movieId|               title|              genres|imdbId|tmdbId|\n",
      "+-------+--------------------+--------------------+------+------+\n",
      "|      1|    Toy Story (1995)|Adventure|Animati...|114709|   862|\n",
      "|      2|      Jumanji (1995)|Adventure|Childre...|113497|  8844|\n",
      "|      3|Grumpier Old Men ...|      Comedy|Romance|113228| 15602|\n",
      "|      4|Waiting to Exhale...|Comedy|Drama|Romance|114885| 31357|\n",
      "|      5|Father of the Bri...|              Comedy|113041| 11862|\n",
      "|      6|         Heat (1995)|Action|Crime|Thri...|113277|   949|\n",
      "|      7|      Sabrina (1995)|      Comedy|Romance|114319| 11860|\n",
      "|      8| Tom and Huck (1995)|  Adventure|Children|112302| 45325|\n",
      "|      9| Sudden Death (1995)|              Action|114576|  9091|\n",
      "|     10|    GoldenEye (1995)|Action|Adventure|...|113189|   710|\n",
      "|     11|American Presiden...|Comedy|Drama|Romance|112346|  9087|\n",
      "|     12|Dracula: Dead and...|       Comedy|Horror|112896| 12110|\n",
      "|     13|        Balto (1995)|Adventure|Animati...|112453| 21032|\n",
      "|     14|        Nixon (1995)|               Drama|113987| 10858|\n",
      "|     15|Cutthroat Island ...|Action|Adventure|...|112760|  1408|\n",
      "|     16|       Casino (1995)|         Crime|Drama|112641|   524|\n",
      "|     17|Sense and Sensibi...|       Drama|Romance|114388|  4584|\n",
      "|     18|   Four Rooms (1995)|              Comedy|113101|     5|\n",
      "|     19|Ace Ventura: When...|              Comedy|112281|  9273|\n",
      "|     20|  Money Train (1995)|Action|Comedy|Cri...|113845| 11517|\n",
      "+-------+--------------------+--------------------+------+------+\n",
      "only showing top 20 rows\n",
      "\n",
      "root\n",
      " |-- userId: integer (nullable = true)\n",
      " |-- movieId: integer (nullable = true)\n",
      " |-- rating: double (nullable = true)\n",
      " |-- timestamp: integer (nullable = true)\n",
      " |-- prediction: float (nullable = false)\n",
      "\n",
      "+------+-------+------+----------+-----------+\n",
      "|userId|movieId|rating| timestamp| prediction|\n",
      "+------+-------+------+----------+-----------+\n",
      "|   329|   1958|   4.0|1523468239| -3.0699356|\n",
      "|   391|   5055|   3.0|1031031037| -3.0383847|\n",
      "|    83|   1726|   2.0|1332839102| -1.7281357|\n",
      "|   310|   6548|   0.5|1078648764| -1.5565618|\n",
      "|   396|    277|   1.0|1111688562| -1.4322537|\n",
      "|   160|   2808|   1.0| 971114607| -1.3515413|\n",
      "|   472|   3087|   3.0|1345842950|  -1.283537|\n",
      "|   393|  91658|   0.5|1430506102| -1.2393502|\n",
      "|   329|   4789|   5.0|1523468218| -1.1025167|\n",
      "|   442|   3107|   0.5|1331560477|-0.99000555|\n",
      "+------+-------+------+----------+-----------+\n",
      "only showing top 10 rows\n",
      "\n",
      "Root-mean-square error = 1.0832858442462936\n"
     ]
    }
   ],
   "source": [
    "from pyspark.sql import SparkSession\n",
    "from pyspark.sql.types import DoubleType\n",
    "from pyspark.ml.evaluation import RegressionEvaluator\n",
    "from pyspark.ml.recommendation import ALS\n",
    "\n",
    "spark = SparkSession.builder.appName(\"Recommendation ALS\").getOrCreate()\n",
    "\n",
    "# do something to prove it works\n",
    "movies_df = spark.read.option(\"header\", \"true\").csv(\"data/movies.csv\", inferSchema=True)\n",
    "links_df = spark.read.option(\"header\", \"true\").csv(\"data/links.csv\", inferSchema=True)\n",
    "movies_df = movies_df.join(links_df, on = ['movieId'])\n",
    "ratings_df = spark.read.option(\"header\", \"true\").csv(\"data/ratings.csv\", inferSchema=True)\n",
    "tags_df = spark.read.option(\"header\", \"true\").csv(\"data/tags.csv\", inferSchema=True)\n",
    "\n",
    "movies_df.show()\n",
    "\n",
    "(training, test) = ratings_df.randomSplit([0.8, 0.2])\n",
    "# Build the recommendation model using ALS on the training data\n",
    "# Note we set cold start strategy to 'drop' to ensure we don't get NaN evaluation metrics\n",
    "als = ALS(maxIter=5, regParam=0.01, userCol=\"userId\", itemCol=\"movieId\", ratingCol=\"rating\",\n",
    "          coldStartStrategy=\"drop\")\n",
    "model = als.fit(training)\n",
    "\n",
    "\n",
    "# Evaluate the model by computing the RMSE on the test data\n",
    "predictions = model.transform(test)\n",
    "predictions.printSchema()\n",
    "predictions.orderBy('prediction').show(10)\n",
    "evaluator = RegressionEvaluator(metricName=\"rmse\", labelCol=\"rating\",\n",
    "                                predictionCol=\"prediction\")\n",
    "rmse = evaluator.evaluate(predictions)\n",
    "print(\"Root-mean-square error = \" + str(rmse))"
   ]
  },
  {
   "cell_type": "markdown",
   "metadata": {},
   "source": [
    "Select the random userid, for example userid=1. Filter all movies that has not been watched by this user"
   ]
  },
  {
   "cell_type": "code",
   "execution_count": 5,
   "metadata": {
    "scrolled": false
   },
   "outputs": [
    {
     "name": "stdout",
     "output_type": "stream",
     "text": [
      "Watch movies 29\n",
      "Total movies 9742\n",
      "+-------+--------------------+--------------------+------+------+\n",
      "|movieId|               title|              genres|imdbId|tmdbId|\n",
      "+-------+--------------------+--------------------+------+------+\n",
      "|      1|    Toy Story (1995)|Adventure|Animati...|114709|   862|\n",
      "|      2|      Jumanji (1995)|Adventure|Childre...|113497|  8844|\n",
      "|      3|Grumpier Old Men ...|      Comedy|Romance|113228| 15602|\n",
      "|      4|Waiting to Exhale...|Comedy|Drama|Romance|114885| 31357|\n",
      "|      5|Father of the Bri...|              Comedy|113041| 11862|\n",
      "|      6|         Heat (1995)|Action|Crime|Thri...|113277|   949|\n",
      "|      7|      Sabrina (1995)|      Comedy|Romance|114319| 11860|\n",
      "|      8| Tom and Huck (1995)|  Adventure|Children|112302| 45325|\n",
      "|      9| Sudden Death (1995)|              Action|114576|  9091|\n",
      "|     10|    GoldenEye (1995)|Action|Adventure|...|113189|   710|\n",
      "|     11|American Presiden...|Comedy|Drama|Romance|112346|  9087|\n",
      "|     12|Dracula: Dead and...|       Comedy|Horror|112896| 12110|\n",
      "|     13|        Balto (1995)|Adventure|Animati...|112453| 21032|\n",
      "|     14|        Nixon (1995)|               Drama|113987| 10858|\n",
      "|     15|Cutthroat Island ...|Action|Adventure|...|112760|  1408|\n",
      "|     16|       Casino (1995)|         Crime|Drama|112641|   524|\n",
      "|     17|Sense and Sensibi...|       Drama|Romance|114388|  4584|\n",
      "|     18|   Four Rooms (1995)|              Comedy|113101|     5|\n",
      "|     19|Ace Ventura: When...|              Comedy|112281|  9273|\n",
      "|     20|  Money Train (1995)|Action|Comedy|Cri...|113845| 11517|\n",
      "+-------+--------------------+--------------------+------+------+\n",
      "only showing top 20 rows\n",
      "\n",
      "+-------+--------------------+--------------------+-------+------+------+-------+------+----------+----------+\n",
      "|movieId|               title|              genres| imdbId|tmdbId|userId|movieId|rating| timestamp|prediction|\n",
      "+-------+--------------------+--------------------+-------+------+------+-------+------+----------+----------+\n",
      "|   6857|Ninja Scroll (Jûb...|Action|Adventure|...| 107692| 14282|    34|   6857|   4.0|1163954715|  9.873973|\n",
      "|   2840|     Stigmata (1999)|      Drama|Thriller| 145531| 10307|   472|   2840|   4.0|1345842966|  8.627128|\n",
      "|  27611|Battlestar Galact...|    Drama|Sci-Fi|War| 314979|206216|   261|  27611|   4.5|1404881639|  8.050938|\n",
      "| 122916|Thor: Ragnarok (2...|Action|Adventure|...|3501632|284053|   258| 122916|   3.0|1534892505| 7.1647105|\n",
      "| 102125|   Iron Man 3 (2013)|Action|Sci-Fi|Thr...|1300854| 68721|   393| 102125|   4.0|1430506862|  7.159114|\n",
      "|   1345|       Carrie (1976)|Drama|Fantasy|Hor...|  74285|  7340|   236|   1345|   3.0| 943013896| 7.1185865|\n",
      "|   2375|Money Pit, The (1...|              Comedy|  91541| 10466|   426|   2375|   3.0|1451082122|  7.110751|\n",
      "|     63|Don't Be a Menace...|        Comedy|Crime| 116126| 10607|   283|     63|   3.0| 901228285| 7.0116673|\n",
      "|   1982|    Halloween (1978)|              Horror|  77651|   948|   236|   1982|   5.0| 943013896|   7.00361|\n",
      "|   3328|Ghost Dog: The Wa...|         Crime|Drama| 165798|  4816|    39|   3328|   5.0| 974789632|  6.831564|\n",
      "|  45722|Pirates of the Ca...|Action|Adventure|...| 383574|    58|   393|  45722|   5.0|1430507487|  6.827808|\n",
      "|  79132|    Inception (2010)|Action|Crime|Dram...|1375666| 27205|    77|  79132|   2.5|1535107524| 6.8166394|\n",
      "|  31685|        Hitch (2005)|      Comedy|Romance| 386588|  8488|    34|  31685|   2.0|1166464153| 6.7328606|\n",
      "|      9| Sudden Death (1995)|              Action| 114576|  9091|   337|      9|   5.0| 860255929|  6.647441|\n",
      "|   2431|  Patch Adams (1998)|        Comedy|Drama| 129290| 10312|   472|   2431|   4.0|1345842873|  6.631148|\n",
      "|    188|Prophecy, The (1995)|Fantasy|Horror|My...| 114194| 11980|   313|    188|   4.0|1030475884| 6.6303954|\n",
      "|     86| White Squall (1996)|Action|Adventure|...| 118158| 10534|   486|     86|   5.0| 839537298|  6.553859|\n",
      "|  55363|Assassination of ...| Crime|Drama|Western| 443680|  4512|   220|  55363|   5.0|1246644370| 6.5360355|\n",
      "|   1518|    Breakdown (1997)|     Action|Thriller| 118771|  2163|    11|   1518|   4.0| 902154431| 6.5029197|\n",
      "|  56367|         Juno (2007)|Comedy|Drama|Romance| 467406|  7326|   506|  56367|   4.0|1424487733| 6.4516563|\n",
      "+-------+--------------------+--------------------+-------+------+------+-------+------+----------+----------+\n",
      "only showing top 20 rows\n",
      "\n"
     ]
    }
   ],
   "source": [
    "from pyspark.sql import SQLContext\n",
    "\n",
    "userId = 496\n",
    "watched_movies = ratings_df.filter(ratings_df['userId'] == userId).select(\"movieId\")\n",
    "\n",
    "print(\"Watch movies {}\".format(watched_movies.count()))\n",
    "print(\"Total movies {}\".format(movies_df.count()))\n",
    "\n",
    "sqlContext = SQLContext(spark.sparkContext)\n",
    "# watched_movies.registerTempTable('watchedMovies')\n",
    "# movies_df.registerTempTable(\"movies\")\n",
    "movies_df.show()\n",
    "unwatched_movies = movies_df.filter(~movies_df['movieId'].isin(watched_movies.select(\"movieId\").rdd.map(lambda r:r[0]).collect()))\n",
    "# unwatched_movies = sqlContext.sql(\"SELECT * FROM movies WHERE movies.movieId NOT IN (SELECT movieId FROM watchedMovies)\")\n",
    "# unwatched_movies.count()\n",
    "\n",
    "unwatched_movies.registerTempTable('unwatchedMovies')\n",
    "predictions.registerTempTable(\"predictions\")\n",
    "\n",
    "unwatched_movies_rating = sqlContext.sql(\"SELECT * FROM unwatchedMovies INNER JOIN predictions ON unwatchedMovies.movieId = predictions.movieId order by predictions.prediction DESC, predictions.rating DESC\")\n",
    "unwatched_movies_rating.show()"
   ]
  },
  {
   "cell_type": "code",
   "execution_count": 3,
   "metadata": {},
   "outputs": [
    {
     "name": "stdout",
     "output_type": "stream",
     "text": [
      "+-------+--------------------+--------------------+------+------+\n",
      "|movieId|               title|              genres|imdbId|tmdbId|\n",
      "+-------+--------------------+--------------------+------+------+\n",
      "|      1|    Toy Story (1995)|Adventure|Animati...|114709|   862|\n",
      "|      2|      Jumanji (1995)|Adventure|Childre...|113497|  8844|\n",
      "|      3|Grumpier Old Men ...|      Comedy|Romance|113228| 15602|\n",
      "|      4|Waiting to Exhale...|Comedy|Drama|Romance|114885| 31357|\n",
      "|      5|Father of the Bri...|              Comedy|113041| 11862|\n",
      "|      6|         Heat (1995)|Action|Crime|Thri...|113277|   949|\n",
      "|      7|      Sabrina (1995)|      Comedy|Romance|114319| 11860|\n",
      "|      8| Tom and Huck (1995)|  Adventure|Children|112302| 45325|\n",
      "|      9| Sudden Death (1995)|              Action|114576|  9091|\n",
      "|     10|    GoldenEye (1995)|Action|Adventure|...|113189|   710|\n",
      "|     11|American Presiden...|Comedy|Drama|Romance|112346|  9087|\n",
      "|     12|Dracula: Dead and...|       Comedy|Horror|112896| 12110|\n",
      "|     13|        Balto (1995)|Adventure|Animati...|112453| 21032|\n",
      "|     14|        Nixon (1995)|               Drama|113987| 10858|\n",
      "|     15|Cutthroat Island ...|Action|Adventure|...|112760|  1408|\n",
      "|     16|       Casino (1995)|         Crime|Drama|112641|   524|\n",
      "|     17|Sense and Sensibi...|       Drama|Romance|114388|  4584|\n",
      "|     18|   Four Rooms (1995)|              Comedy|113101|     5|\n",
      "|     19|Ace Ventura: When...|              Comedy|112281|  9273|\n",
      "|     20|  Money Train (1995)|Action|Comedy|Cri...|113845| 11517|\n",
      "+-------+--------------------+--------------------+------+------+\n",
      "only showing top 20 rows\n",
      "\n"
     ]
    }
   ],
   "source": [
    "unwatched_movies.show()"
   ]
  },
  {
   "cell_type": "code",
   "execution_count": 4,
   "metadata": {},
   "outputs": [
    {
     "name": "stdout",
     "output_type": "stream",
     "text": [
      "6857 Ninja Scroll (Jûbei ninpûchô) (1995) 9.87397289276123\n",
      "2840 Stigmata (1999) 8.627127647399902\n",
      "27611 Battlestar Galactica (2003) 8.05093765258789\n",
      "122916 Thor: Ragnarok (2017) 7.164710521697998\n",
      "102125 Iron Man 3 (2013) 7.159113883972168\n"
     ]
    }
   ],
   "source": [
    "recommendedMovies = unwatched_movies_rating.take(5)\n",
    "for r in recommendedMovies:\n",
    "    print(r['movieId'], r['title'], r['prediction'])\n",
    "\n"
   ]
  },
  {
   "cell_type": "code",
   "execution_count": null,
   "metadata": {},
   "outputs": [],
   "source": []
  }
 ],
 "metadata": {
  "kernelspec": {
   "display_name": "Python 3",
   "language": "python",
   "name": "python3"
  },
  "language_info": {
   "codemirror_mode": {
    "name": "ipython",
    "version": 3
   },
   "file_extension": ".py",
   "mimetype": "text/x-python",
   "name": "python",
   "nbconvert_exporter": "python",
   "pygments_lexer": "ipython3",
   "version": "3.7.3"
  }
 },
 "nbformat": 4,
 "nbformat_minor": 1
}
