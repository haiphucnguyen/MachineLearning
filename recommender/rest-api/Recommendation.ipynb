{
 "cells": [
  {
   "cell_type": "code",
   "execution_count": 1,
   "metadata": {},
   "outputs": [
    {
     "name": "stdout",
     "output_type": "stream",
     "text": [
      "+-------+--------------------+--------------------+------+------+\n",
      "|movieId|               title|              genres|imdbId|tmdbId|\n",
      "+-------+--------------------+--------------------+------+------+\n",
      "|      1|    Toy Story (1995)|Adventure|Animati...|114709|   862|\n",
      "|      2|      Jumanji (1995)|Adventure|Childre...|113497|  8844|\n",
      "|      3|Grumpier Old Men ...|      Comedy|Romance|113228| 15602|\n",
      "|      4|Waiting to Exhale...|Comedy|Drama|Romance|114885| 31357|\n",
      "|      5|Father of the Bri...|              Comedy|113041| 11862|\n",
      "|      6|         Heat (1995)|Action|Crime|Thri...|113277|   949|\n",
      "|      7|      Sabrina (1995)|      Comedy|Romance|114319| 11860|\n",
      "|      8| Tom and Huck (1995)|  Adventure|Children|112302| 45325|\n",
      "|      9| Sudden Death (1995)|              Action|114576|  9091|\n",
      "|     10|    GoldenEye (1995)|Action|Adventure|...|113189|   710|\n",
      "|     11|American Presiden...|Comedy|Drama|Romance|112346|  9087|\n",
      "|     12|Dracula: Dead and...|       Comedy|Horror|112896| 12110|\n",
      "|     13|        Balto (1995)|Adventure|Animati...|112453| 21032|\n",
      "|     14|        Nixon (1995)|               Drama|113987| 10858|\n",
      "|     15|Cutthroat Island ...|Action|Adventure|...|112760|  1408|\n",
      "|     16|       Casino (1995)|         Crime|Drama|112641|   524|\n",
      "|     17|Sense and Sensibi...|       Drama|Romance|114388|  4584|\n",
      "|     18|   Four Rooms (1995)|              Comedy|113101|     5|\n",
      "|     19|Ace Ventura: When...|              Comedy|112281|  9273|\n",
      "|     20|  Money Train (1995)|Action|Comedy|Cri...|113845| 11517|\n",
      "+-------+--------------------+--------------------+------+------+\n",
      "only showing top 20 rows\n",
      "\n",
      "root\n",
      " |-- userId: integer (nullable = true)\n",
      " |-- movieId: integer (nullable = true)\n",
      " |-- rating: double (nullable = true)\n",
      " |-- timestamp: integer (nullable = true)\n",
      " |-- prediction: float (nullable = false)\n",
      "\n",
      "+------+-------+------+----------+----------+\n",
      "|userId|movieId|rating| timestamp|prediction|\n",
      "+------+-------+------+----------+----------+\n",
      "|   517|  40339|   0.5|1488398916|-2.8561225|\n",
      "|   257|      7|   1.0|1141625546|-2.0422478|\n",
      "|   360|   1646|   1.0| 884997952|-1.6226444|\n",
      "|   576|    327|   2.5|1358151538|-1.3013995|\n",
      "|     3|    647|   0.5|1306463619|-1.1643846|\n",
      "|    34|  31184|   3.0|1163954786|-1.1490355|\n",
      "|    75|    168|   4.0|1158967185|-1.0582883|\n",
      "|   517| 101577|   0.5|1487957195|-1.0283415|\n",
      "|   138|   2427|   1.5|1222675985|-0.9983088|\n",
      "|    53|   1982|   5.0|1237748071|-0.9166354|\n",
      "+------+-------+------+----------+----------+\n",
      "only showing top 10 rows\n",
      "\n",
      "Root-mean-square error = 1.098136605910114\n"
     ]
    }
   ],
   "source": [
    "from pyspark.sql import SparkSession\n",
    "from pyspark.sql.types import DoubleType\n",
    "from pyspark.ml.evaluation import RegressionEvaluator\n",
    "from pyspark.ml.recommendation import ALS\n",
    "\n",
    "spark = SparkSession.builder.appName(\"Recommendation ALS\").getOrCreate()\n",
    "\n",
    "# do something to prove it works\n",
    "movies_df = spark.read.option(\"header\", \"true\").csv(\"data/movies.csv\", inferSchema=True)\n",
    "links_df = spark.read.option(\"header\", \"true\").csv(\"data/links.csv\", inferSchema=True)\n",
    "movies_df = movies_df.join(links_df, on = ['movieId'])\n",
    "ratings_df = spark.read.option(\"header\", \"true\").csv(\"data/ratings.csv\", inferSchema=True)\n",
    "tags_df = spark.read.option(\"header\", \"true\").csv(\"data/tags.csv\", inferSchema=True)\n",
    "\n",
    "movies_df.show()\n",
    "\n",
    "(training, test) = ratings_df.randomSplit([0.8, 0.2])\n",
    "# Build the recommendation model using ALS on the training data\n",
    "# Note we set cold start strategy to 'drop' to ensure we don't get NaN evaluation metrics\n",
    "als = ALS(maxIter=5, regParam=0.01, userCol=\"userId\", itemCol=\"movieId\", ratingCol=\"rating\",\n",
    "          coldStartStrategy=\"drop\")\n",
    "model = als.fit(training)\n",
    "\n",
    "\n",
    "# Evaluate the model by computing the RMSE on the test data\n",
    "predictions = model.transform(test)\n",
    "predictions.printSchema()\n",
    "predictions.orderBy('prediction').show(10)\n",
    "evaluator = RegressionEvaluator(metricName=\"rmse\", labelCol=\"rating\",\n",
    "                                predictionCol=\"prediction\")\n",
    "rmse = evaluator.evaluate(predictions)\n",
    "print(\"Root-mean-square error = \" + str(rmse))"
   ]
  },
  {
   "cell_type": "markdown",
   "metadata": {},
   "source": [
    "Select the random userid, for example userid=1. Filter all movies that has not been watched by this user"
   ]
  },
  {
   "cell_type": "code",
   "execution_count": 2,
   "metadata": {},
   "outputs": [
    {
     "name": "stdout",
     "output_type": "stream",
     "text": [
      "+--------------------+\n",
      "|     recommendations|\n",
      "+--------------------+\n",
      "|[[158783, 7.24981...|\n",
      "+--------------------+\n",
      "\n",
      "[158783, 28, 1283, 3508, 1297, 1287, 3836, 7008, 5072, 5666]\n",
      "+-------+--------------------+--------------------+-------+------+\n",
      "|movieId|               title|              genres| imdbId|tmdbId|\n",
      "+-------+--------------------+--------------------+-------+------+\n",
      "|     28|   Persuasion (1995)|       Drama|Romance| 114117| 17015|\n",
      "|   1283|    High Noon (1952)|       Drama|Western|  44706|   288|\n",
      "|   1287|      Ben-Hur (1959)|Action|Adventure|...|  52618|   665|\n",
      "|   1297|  Real Genius (1985)|              Comedy|  89886| 14370|\n",
      "|   3508|Outlaw Josey Wale...|Action|Adventure|...|  75029| 10747|\n",
      "|   3836|Kelly's Heroes (1...|   Action|Comedy|War|  65938| 11589|\n",
      "|   5072|   Metropolis (2001)|    Animation|Sci-Fi| 293416|  9606|\n",
      "|   5666|Rules of Attracti...|Comedy|Drama|Roma...| 292644|  1809|\n",
      "|   7008|Last Tango in Par...|       Drama|Romance|  70849|  1643|\n",
      "| 158783|The Handmaiden (2...|Drama|Romance|Thr...|4016934|290098|\n",
      "+-------+--------------------+--------------------+-------+------+\n",
      "\n"
     ]
    }
   ],
   "source": [
    "userId = 1\n",
    "users = ratings_df.filter(ratings_df[\"userId\"] == userId).select(\"userId\").distinct()\n",
    "userSubsetRecs = model.recommendForUserSubset(users, 10)\n",
    "userSubsetRecs.select(\"recommendations\").show()\n",
    "recommendations = userSubsetRecs.select(\"recommendations\").collect()[0][0]\n",
    "\n",
    "movieIds = []\n",
    "for recommendation in recommendations:\n",
    "    movieIds.append(recommendation[0])\n",
    "\n",
    "print(movieIds)\n",
    "movies_df.filter(movies_df[\"movieId\"].isin(movieIds)).show()"
   ]
  },
  {
   "cell_type": "code",
   "execution_count": null,
   "metadata": {},
   "outputs": [],
   "source": []
  }
 ],
 "metadata": {
  "kernelspec": {
   "display_name": "Python 3",
   "language": "python",
   "name": "python3"
  },
  "language_info": {
   "codemirror_mode": {
    "name": "ipython",
    "version": 3
   },
   "file_extension": ".py",
   "mimetype": "text/x-python",
   "name": "python",
   "nbconvert_exporter": "python",
   "pygments_lexer": "ipython3",
   "version": "3.7.3"
  }
 },
 "nbformat": 4,
 "nbformat_minor": 1
}
