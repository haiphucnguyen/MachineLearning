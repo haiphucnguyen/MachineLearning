{
 "cells": [
  {
   "cell_type": "code",
   "execution_count": 2,
   "metadata": {},
   "outputs": [
    {
     "name": "stdout",
     "output_type": "stream",
     "text": [
      "+-------+--------------------+--------------------+------+------+\n",
      "|movieId|               title|              genres|imdbId|tmdbId|\n",
      "+-------+--------------------+--------------------+------+------+\n",
      "|      1|    Toy Story (1995)|Adventure|Animati...|114709|   862|\n",
      "|      2|      Jumanji (1995)|Adventure|Childre...|113497|  8844|\n",
      "|      3|Grumpier Old Men ...|      Comedy|Romance|113228| 15602|\n",
      "|      4|Waiting to Exhale...|Comedy|Drama|Romance|114885| 31357|\n",
      "|      5|Father of the Bri...|              Comedy|113041| 11862|\n",
      "|      6|         Heat (1995)|Action|Crime|Thri...|113277|   949|\n",
      "|      7|      Sabrina (1995)|      Comedy|Romance|114319| 11860|\n",
      "|      8| Tom and Huck (1995)|  Adventure|Children|112302| 45325|\n",
      "|      9| Sudden Death (1995)|              Action|114576|  9091|\n",
      "|     10|    GoldenEye (1995)|Action|Adventure|...|113189|   710|\n",
      "|     11|American Presiden...|Comedy|Drama|Romance|112346|  9087|\n",
      "|     12|Dracula: Dead and...|       Comedy|Horror|112896| 12110|\n",
      "|     13|        Balto (1995)|Adventure|Animati...|112453| 21032|\n",
      "|     14|        Nixon (1995)|               Drama|113987| 10858|\n",
      "|     15|Cutthroat Island ...|Action|Adventure|...|112760|  1408|\n",
      "|     16|       Casino (1995)|         Crime|Drama|112641|   524|\n",
      "|     17|Sense and Sensibi...|       Drama|Romance|114388|  4584|\n",
      "|     18|   Four Rooms (1995)|              Comedy|113101|     5|\n",
      "|     19|Ace Ventura: When...|              Comedy|112281|  9273|\n",
      "|     20|  Money Train (1995)|Action|Comedy|Cri...|113845| 11517|\n",
      "+-------+--------------------+--------------------+------+------+\n",
      "only showing top 20 rows\n",
      "\n",
      "root\n",
      " |-- userId: integer (nullable = true)\n",
      " |-- movieId: integer (nullable = true)\n",
      " |-- rating: double (nullable = true)\n",
      " |-- timestamp: integer (nullable = true)\n",
      " |-- prediction: float (nullable = false)\n",
      "\n",
      "+------+-------+------+----------+----------+\n",
      "|userId|movieId|rating| timestamp|prediction|\n",
      "+------+-------+------+----------+----------+\n",
      "|   576|   2826|   4.5|1358151536| -2.783927|\n",
      "|   536|    232|   2.0| 832840090|-2.7431517|\n",
      "|   384|   4333|   4.0| 993555974|-2.4962099|\n",
      "|   257|   5952|   3.0|1141625449|  -2.47073|\n",
      "|   328| 102903|   0.5|1494211403|-1.9504237|\n",
      "|   255|   3929|   2.0|1005717292|-1.7241547|\n",
      "|   149|   2034|   1.0| 902085188|-1.6534903|\n",
      "|   308|   5669|   3.0|1421375081|-1.1756775|\n",
      "|   341|  90890|   3.5|1439751340|-1.0504715|\n",
      "|   160|   2340|   1.0| 985383314|-1.0491143|\n",
      "+------+-------+------+----------+----------+\n",
      "only showing top 10 rows\n",
      "\n",
      "Root-mean-square error = 1.0861544511539838\n"
     ]
    }
   ],
   "source": [
    "from pyspark.sql import SparkSession\n",
    "from pyspark.sql.types import DoubleType\n",
    "from pyspark.ml.evaluation import RegressionEvaluator\n",
    "from pyspark.ml.recommendation import ALS\n",
    "\n",
    "spark = SparkSession.builder.appName(\"Recommendation ALS\").getOrCreate()\n",
    "\n",
    "# do something to prove it works\n",
    "movies_df = spark.read.option(\"header\", \"true\").csv(\"data/movies.csv\", inferSchema=True)\n",
    "links_df = spark.read.option(\"header\", \"true\").csv(\"data/links.csv\", inferSchema=True)\n",
    "movies_df = movies_df.join(links_df, on = ['movieId'])\n",
    "ratings_df = spark.read.option(\"header\", \"true\").csv(\"data/ratings.csv\", inferSchema=True)\n",
    "tags_df = spark.read.option(\"header\", \"true\").csv(\"data/tags.csv\", inferSchema=True)\n",
    "\n",
    "movies_df.show()\n",
    "\n",
    "(training, test) = ratings_df.randomSplit([0.8, 0.2])\n",
    "# Build the recommendation model using ALS on the training data\n",
    "# Note we set cold start strategy to 'drop' to ensure we don't get NaN evaluation metrics\n",
    "als = ALS(maxIter=5, regParam=0.01, userCol=\"userId\", itemCol=\"movieId\", ratingCol=\"rating\",\n",
    "          coldStartStrategy=\"drop\")\n",
    "model = als.fit(training)\n",
    "\n",
    "\n",
    "# Evaluate the model by computing the RMSE on the test data\n",
    "predictions = model.transform(test)\n",
    "predictions.printSchema()\n",
    "predictions.orderBy('prediction').show(10)\n",
    "evaluator = RegressionEvaluator(metricName=\"rmse\", labelCol=\"rating\",\n",
    "                                predictionCol=\"prediction\")\n",
    "rmse = evaluator.evaluate(predictions)\n",
    "print(\"Root-mean-square error = \" + str(rmse))"
   ]
  },
  {
   "cell_type": "markdown",
   "metadata": {},
   "source": [
    "Select the random userid, for example userid=1. Filter all movies that has not been watched by this user"
   ]
  },
  {
   "cell_type": "code",
   "execution_count": 55,
   "metadata": {
    "scrolled": false
   },
   "outputs": [
    {
     "name": "stdout",
     "output_type": "stream",
     "text": [
      "Watch movies 29\n",
      "Total movies 9742\n",
      "+-------+--------------------+--------------------+------+------+\n",
      "|movieId|               title|              genres|imdbId|tmdbId|\n",
      "+-------+--------------------+--------------------+------+------+\n",
      "|      1|    Toy Story (1995)|Adventure|Animati...|114709|   862|\n",
      "|      2|      Jumanji (1995)|Adventure|Childre...|113497|  8844|\n",
      "|      3|Grumpier Old Men ...|      Comedy|Romance|113228| 15602|\n",
      "|      4|Waiting to Exhale...|Comedy|Drama|Romance|114885| 31357|\n",
      "|      5|Father of the Bri...|              Comedy|113041| 11862|\n",
      "|      6|         Heat (1995)|Action|Crime|Thri...|113277|   949|\n",
      "|      7|      Sabrina (1995)|      Comedy|Romance|114319| 11860|\n",
      "|      8| Tom and Huck (1995)|  Adventure|Children|112302| 45325|\n",
      "|      9| Sudden Death (1995)|              Action|114576|  9091|\n",
      "|     10|    GoldenEye (1995)|Action|Adventure|...|113189|   710|\n",
      "|     11|American Presiden...|Comedy|Drama|Romance|112346|  9087|\n",
      "|     12|Dracula: Dead and...|       Comedy|Horror|112896| 12110|\n",
      "|     13|        Balto (1995)|Adventure|Animati...|112453| 21032|\n",
      "|     14|        Nixon (1995)|               Drama|113987| 10858|\n",
      "|     15|Cutthroat Island ...|Action|Adventure|...|112760|  1408|\n",
      "|     16|       Casino (1995)|         Crime|Drama|112641|   524|\n",
      "|     17|Sense and Sensibi...|       Drama|Romance|114388|  4584|\n",
      "|     18|   Four Rooms (1995)|              Comedy|113101|     5|\n",
      "|     19|Ace Ventura: When...|              Comedy|112281|  9273|\n",
      "|     20|  Money Train (1995)|Action|Comedy|Cri...|113845| 11517|\n",
      "+-------+--------------------+--------------------+------+------+\n",
      "only showing top 20 rows\n",
      "\n",
      "+-------+--------------------+--------------------+-------+------+------+-------+------+----------+----------+\n",
      "|movieId|               title|              genres| imdbId|tmdbId|userId|movieId|rating| timestamp|prediction|\n",
      "+-------+--------------------+--------------------+-------+------+------+-------+------+----------+----------+\n",
      "|     85|Angels and Insect...|       Drama|Romance| 112365|  8447|   262|     85|   3.0| 840306620|  8.992974|\n",
      "|  69644|Ice Age: Dawn of ...|Action|Adventure|...|1080016|  8355|    98|  69644|   1.5|1532457605| 7.9052773|\n",
      "|   3113|  End of Days (1999)|Action|Fantasy|Ho...| 146675|  9946|   267|   3113|   4.0| 959806897|  7.866298|\n",
      "| 157296| Finding Dory (2016)|Adventure|Animati...|2277860|127380|   159| 157296|   4.5|1508641197| 7.7524643|\n",
      "|   1204|Lawrence of Arabi...| Adventure|Drama|War|  56172|   947|   494|   1204|   3.0|1000384075|  7.542533|\n",
      "|  31878|Kung Fu Hustle (G...|       Action|Comedy| 373074|  9470|    83|  31878|   0.5|1332838137| 7.4855423|\n",
      "|   2194|Untouchables, The...|  Action|Crime|Drama|  94226|   117|   423|   2194|   4.5|1155285538| 7.3818083|\n",
      "|   5816|Harry Potter and ...|   Adventure|Fantasy| 295297|   672|    77|   5816|   5.0|1535107557|  7.308876|\n",
      "|   4148|     Hannibal (2001)|     Horror|Thriller| 212985|  9740|   393|   4148|   3.5|1430507559| 7.2732873|\n",
      "|   3298|  Boiler Room (2000)|Crime|Drama|Thriller| 181984| 14181|   392|   3298|   4.0|1027524346| 7.1344357|\n",
      "|   1262|Great Escape, The...|Action|Adventure|...|  57115|  5925|   399|   1262|   3.5|1167222111|  7.132594|\n",
      "|   2125|Ever After: A Cin...|Comedy|Drama|Romance| 120631|  9454|   467|   2125|   2.0| 919672054| 7.1262507|\n",
      "|     52|Mighty Aphrodite ...|Comedy|Drama|Romance| 113819| 11448|   120|     52|   3.0| 860070065|  7.060849|\n",
      "|    215|Before Sunrise (1...|       Drama|Romance| 112471|    76|   182|    215|   4.0|1055157049| 7.0588694|\n",
      "|   3986| 6th Day, The (2000)|Action|Sci-Fi|Thr...| 216216|  8452|   267|   3986|   4.0| 979230761|  6.949275|\n",
      "|   3175| Galaxy Quest (1999)|Adventure|Comedy|...| 177789|   926|   267|   3175|   4.0| 959806831| 6.8184643|\n",
      "|   2288|   Thing, The (1982)|Action|Horror|Sci...|  84787|  1091|   532|   2288|   4.0|1025523852|   6.80686|\n",
      "|   3910|Dancer in the Dar...|       Drama|Musical| 168629|    16|   259|   3910|   5.0|1146845820| 6.7845917|\n",
      "|    940|Adventures of Rob...|Action|Adventure|...|  29843| 10907|   128|    940|   5.0| 899032847| 6.7659297|\n",
      "|   1350|    Omen, The (1976)|Horror|Mystery|Th...|  75005|   794|   118|   1350|   3.0| 944923926| 6.7220993|\n",
      "+-------+--------------------+--------------------+-------+------+------+-------+------+----------+----------+\n",
      "only showing top 20 rows\n",
      "\n"
     ]
    }
   ],
   "source": [
    "from pyspark.sql import SQLContext\n",
    "\n",
    "userId = 496\n",
    "watched_movies = ratings_df.filter(ratings_df['userId'] == userId).select(\"movieId\")\n",
    "\n",
    "print(\"Watch movies {}\".format(watched_movies.count()))\n",
    "print(\"Total movies {}\".format(movies_df.count()))\n",
    "\n",
    "sqlContext = SQLContext(spark.sparkContext)\n",
    "# watched_movies.registerTempTable('watchedMovies')\n",
    "# movies_df.registerTempTable(\"movies\")\n",
    "movies_df.show()\n",
    "unwatched_movies = movies_df.filter(~movies_df['movieId'].isin(watched_movies.select(\"movieId\").rdd.map(lambda r:r[0]).collect()))\n",
    "# unwatched_movies = sqlContext.sql(\"SELECT * FROM movies WHERE movies.movieId NOT IN (SELECT movieId FROM watchedMovies)\")\n",
    "# unwatched_movies.count()\n",
    "\n",
    "unwatched_movies.registerTempTable('unwatchedMovies')\n",
    "predictions.registerTempTable(\"predictions\")\n",
    "\n",
    "unwatched_movies_rating = sqlContext.sql(\"SELECT * FROM unwatchedMovies INNER JOIN predictions ON unwatchedMovies.movieId = predictions.movieId order by predictions.prediction DESC, predictions.rating DESC\")\n",
    "unwatched_movies_rating.show()"
   ]
  },
  {
   "cell_type": "code",
   "execution_count": 34,
   "metadata": {},
   "outputs": [
    {
     "ename": "NameError",
     "evalue": "name 'unwatched_movies' is not defined",
     "output_type": "error",
     "traceback": [
      "\u001b[0;31m\u001b[0m",
      "\u001b[0;31mNameError\u001b[0mTraceback (most recent call last)",
      "\u001b[0;32m<ipython-input-34-86f785efd408>\u001b[0m in \u001b[0;36m<module>\u001b[0;34m\u001b[0m\n\u001b[0;32m----> 1\u001b[0;31m \u001b[0munwatched_movies\u001b[0m\u001b[0;34m.\u001b[0m\u001b[0mshow\u001b[0m\u001b[0;34m(\u001b[0m\u001b[0;34m)\u001b[0m\u001b[0;34m\u001b[0m\u001b[0;34m\u001b[0m\u001b[0m\n\u001b[0m",
      "\u001b[0;31mNameError\u001b[0m: name 'unwatched_movies' is not defined"
     ]
    }
   ],
   "source": [
    "unwatched_movies.show()"
   ]
  },
  {
   "cell_type": "code",
   "execution_count": 8,
   "metadata": {},
   "outputs": [
    {
     "name": "stdout",
     "output_type": "stream",
     "text": [
      "106489 Hobbit: The Desolation of Smaug, The (2013) 10.648029327392578\n",
      "142488 Spotlight (2015) 9.821280479431152\n",
      "232 Eat Drink Man Woman (Yin shi nan nu) (1994) 8.60883903503418\n",
      "3157 Stuart Little (1999) 7.532286167144775\n",
      "1372 Star Trek VI: The Undiscovered Country (1991) 7.4608964920043945\n"
     ]
    }
   ],
   "source": [
    "recommendedMovies = unwatched_movies_rating.take(5)\n",
    "for r in recommendedMovies:\n",
    "    print(r['movieId'], r['title'], r['prediction'])\n",
    "\n"
   ]
  },
  {
   "cell_type": "code",
   "execution_count": null,
   "metadata": {},
   "outputs": [],
   "source": []
  }
 ],
 "metadata": {
  "kernelspec": {
   "display_name": "Python 3",
   "language": "python",
   "name": "python3"
  },
  "language_info": {
   "codemirror_mode": {
    "name": "ipython",
    "version": 3
   },
   "file_extension": ".py",
   "mimetype": "text/x-python",
   "name": "python",
   "nbconvert_exporter": "python",
   "pygments_lexer": "ipython3",
   "version": "3.7.3"
  }
 },
 "nbformat": 4,
 "nbformat_minor": 1
}
