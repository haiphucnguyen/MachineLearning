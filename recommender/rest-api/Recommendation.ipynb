{
 "cells": [
  {
   "cell_type": "code",
   "execution_count": 1,
   "metadata": {},
   "outputs": [
    {
     "name": "stdout",
     "output_type": "stream",
     "text": [
      "+-------+--------------------+--------------------+------+------+\n",
      "|movieId|               title|              genres|imdbId|tmdbId|\n",
      "+-------+--------------------+--------------------+------+------+\n",
      "|      1|    Toy Story (1995)|Adventure|Animati...|114709|   862|\n",
      "|      2|      Jumanji (1995)|Adventure|Childre...|113497|  8844|\n",
      "|      3|Grumpier Old Men ...|      Comedy|Romance|113228| 15602|\n",
      "|      4|Waiting to Exhale...|Comedy|Drama|Romance|114885| 31357|\n",
      "|      5|Father of the Bri...|              Comedy|113041| 11862|\n",
      "|      6|         Heat (1995)|Action|Crime|Thri...|113277|   949|\n",
      "|      7|      Sabrina (1995)|      Comedy|Romance|114319| 11860|\n",
      "|      8| Tom and Huck (1995)|  Adventure|Children|112302| 45325|\n",
      "|      9| Sudden Death (1995)|              Action|114576|  9091|\n",
      "|     10|    GoldenEye (1995)|Action|Adventure|...|113189|   710|\n",
      "|     11|American Presiden...|Comedy|Drama|Romance|112346|  9087|\n",
      "|     12|Dracula: Dead and...|       Comedy|Horror|112896| 12110|\n",
      "|     13|        Balto (1995)|Adventure|Animati...|112453| 21032|\n",
      "|     14|        Nixon (1995)|               Drama|113987| 10858|\n",
      "|     15|Cutthroat Island ...|Action|Adventure|...|112760|  1408|\n",
      "|     16|       Casino (1995)|         Crime|Drama|112641|   524|\n",
      "|     17|Sense and Sensibi...|       Drama|Romance|114388|  4584|\n",
      "|     18|   Four Rooms (1995)|              Comedy|113101|     5|\n",
      "|     19|Ace Ventura: When...|              Comedy|112281|  9273|\n",
      "|     20|  Money Train (1995)|Action|Comedy|Cri...|113845| 11517|\n",
      "+-------+--------------------+--------------------+------+------+\n",
      "only showing top 20 rows\n",
      "\n",
      "root\n",
      " |-- userId: integer (nullable = true)\n",
      " |-- movieId: integer (nullable = true)\n",
      " |-- rating: double (nullable = true)\n",
      " |-- timestamp: integer (nullable = true)\n",
      " |-- prediction: float (nullable = false)\n",
      "\n",
      "+------+-------+------+----------+----------+\n",
      "|userId|movieId|rating| timestamp|prediction|\n",
      "+------+-------+------+----------+----------+\n",
      "|   536|    232|   2.0| 832840090| -4.030426|\n",
      "|   120|    743|   3.0| 860070141| -2.108109|\n",
      "|   472|   2840|   4.0|1345842966|-2.0321212|\n",
      "|   264|   1876|   3.5|1136978477|-1.6865745|\n",
      "|   473|   2136|   1.0|1169351319| -1.506858|\n",
      "|    36|   3766|   2.0|1100803862|-1.4435704|\n",
      "|   301|   1644|   0.5|1211376270|-1.3938472|\n",
      "|   153|   2617|   0.5|1525552650|-1.2981129|\n",
      "|   467|   2324|   5.0| 919670453|-1.2158127|\n",
      "|   298| 135861|   1.5|1458650077|-1.1166792|\n",
      "+------+-------+------+----------+----------+\n",
      "only showing top 10 rows\n",
      "\n",
      "Root-mean-square error = 1.0657402151824118\n"
     ]
    }
   ],
   "source": [
    "from pyspark.sql import SparkSession\n",
    "from pyspark.sql.types import DoubleType\n",
    "from pyspark.ml.evaluation import RegressionEvaluator\n",
    "from pyspark.ml.recommendation import ALS\n",
    "\n",
    "spark = SparkSession.builder.appName(\"Recommendation ALS\").getOrCreate()\n",
    "\n",
    "# do something to prove it works\n",
    "movies_df = spark.read.option(\"header\", \"true\").csv(\"data/movies.csv\", inferSchema=True)\n",
    "links_df = spark.read.option(\"header\", \"true\").csv(\"data/links.csv\", inferSchema=True)\n",
    "movies_df = movies_df.join(links_df, on = ['movieId'])\n",
    "ratings_df = spark.read.option(\"header\", \"true\").csv(\"data/ratings.csv\", inferSchema=True)\n",
    "tags_df = spark.read.option(\"header\", \"true\").csv(\"data/tags.csv\", inferSchema=True)\n",
    "\n",
    "movies_df.show()\n",
    "\n",
    "(training, test) = ratings_df.randomSplit([0.8, 0.2])\n",
    "# Build the recommendation model using ALS on the training data\n",
    "# Note we set cold start strategy to 'drop' to ensure we don't get NaN evaluation metrics\n",
    "als = ALS(maxIter=5, regParam=0.01, userCol=\"userId\", itemCol=\"movieId\", ratingCol=\"rating\",\n",
    "          coldStartStrategy=\"drop\")\n",
    "model = als.fit(training)\n",
    "\n",
    "\n",
    "# Evaluate the model by computing the RMSE on the test data\n",
    "predictions = model.transform(test)\n",
    "predictions.printSchema()\n",
    "predictions.orderBy('prediction').show(10)\n",
    "evaluator = RegressionEvaluator(metricName=\"rmse\", labelCol=\"rating\",\n",
    "                                predictionCol=\"prediction\")\n",
    "rmse = evaluator.evaluate(predictions)\n",
    "print(\"Root-mean-square error = \" + str(rmse))"
   ]
  },
  {
   "cell_type": "markdown",
   "metadata": {},
   "source": [
    "Select the random userid, for example userid=1. Filter all movies that has not been watched by this user"
   ]
  },
  {
   "cell_type": "code",
   "execution_count": 3,
   "metadata": {},
   "outputs": [
    {
     "name": "stdout",
     "output_type": "stream",
     "text": [
      "Watch movies 232\n",
      "Total movies 9742\n"
     ]
    },
    {
     "data": {
      "text/plain": [
       "2259912"
      ]
     },
     "execution_count": 3,
     "metadata": {},
     "output_type": "execute_result"
    }
   ],
   "source": [
    "from pyspark.sql import SQLContext\n",
    "\n",
    "userId = 496\n",
    "watched_movies = ratings_df.filter(ratings_df['userId'] == userId).select(\"movieId\")\n",
    "\n",
    "print(\"Watch movies {}\".format(watched_movies.count()))\n",
    "print(\"Total movies {}\".format(movies_df.count()))\n",
    "\n",
    "sqlContext = SQLContext(spark.sparkContext)\n",
    "watched_movies.registerTempTable('watchedMovies')\n",
    "movies_df.registerTempTable(\"movies\")\n",
    "predictions.registerTempTable(\"predictions\")\n",
    "\n",
    "unwatched_movies = sqlContext.sql(\"SELECT * FROM movies WHERE movies.movieId NOT IN (SELECT movieId FROM watchedMovies)\")\n",
    "unwatched_movies.count()\n",
    "\n",
    "unwatched_movies.registerTempTable('unwatchedMovies')\n",
    "\n",
    "unwatched_movies_rating = sqlContext.sql(\"SELECT * FROM unwatchedMovies INNER JOIN predictions WHERE unwatchedMovies.movieId = predictions.movieId order by predictions.rating, predictions.prediction DESC\")\n",
    "unwatched_movies_rating.show()"
   ]
  },
  {
   "cell_type": "code",
   "execution_count": 4,
   "metadata": {},
   "outputs": [
    {
     "name": "stdout",
     "output_type": "stream",
     "text": [
      "+-------+----------------+--------------------+------+------+-------+\n",
      "|movieId|           title|              genres|imdbId|tmdbId|movieId|\n",
      "+-------+----------------+--------------------+------+------+-------+\n",
      "|      1|Toy Story (1995)|Adventure|Animati...|114709|   862|      3|\n",
      "|      1|Toy Story (1995)|Adventure|Animati...|114709|   862|      6|\n",
      "|      1|Toy Story (1995)|Adventure|Animati...|114709|   862|     47|\n",
      "|      1|Toy Story (1995)|Adventure|Animati...|114709|   862|     50|\n",
      "|      1|Toy Story (1995)|Adventure|Animati...|114709|   862|     70|\n",
      "|      1|Toy Story (1995)|Adventure|Animati...|114709|   862|    101|\n",
      "|      1|Toy Story (1995)|Adventure|Animati...|114709|   862|    110|\n",
      "|      1|Toy Story (1995)|Adventure|Animati...|114709|   862|    151|\n",
      "|      1|Toy Story (1995)|Adventure|Animati...|114709|   862|    157|\n",
      "|      1|Toy Story (1995)|Adventure|Animati...|114709|   862|    163|\n",
      "|      1|Toy Story (1995)|Adventure|Animati...|114709|   862|    216|\n",
      "|      1|Toy Story (1995)|Adventure|Animati...|114709|   862|    223|\n",
      "|      1|Toy Story (1995)|Adventure|Animati...|114709|   862|    231|\n",
      "|      1|Toy Story (1995)|Adventure|Animati...|114709|   862|    235|\n",
      "|      1|Toy Story (1995)|Adventure|Animati...|114709|   862|    260|\n",
      "|      1|Toy Story (1995)|Adventure|Animati...|114709|   862|    296|\n",
      "|      1|Toy Story (1995)|Adventure|Animati...|114709|   862|    316|\n",
      "|      1|Toy Story (1995)|Adventure|Animati...|114709|   862|    333|\n",
      "|      1|Toy Story (1995)|Adventure|Animati...|114709|   862|    349|\n",
      "|      1|Toy Story (1995)|Adventure|Animati...|114709|   862|    356|\n",
      "+-------+----------------+--------------------+------+------+-------+\n",
      "only showing top 20 rows\n",
      "\n"
     ]
    }
   ],
   "source": [
    "unwatched_movies.show()"
   ]
  },
  {
   "cell_type": "code",
   "execution_count": 30,
   "metadata": {},
   "outputs": [
    {
     "name": "stdout",
     "output_type": "stream",
     "text": [
      "Test: 110081\n",
      "Test: 109068\n",
      "Test: 117500\n",
      "Test: 106544\n",
      "Test: 116259\n",
      "Test: 102798\n",
      "Test: 101775\n",
      "Test: 106535\n",
      "Test: 119432\n",
      "Test: 89385\n"
     ]
    }
   ],
   "source": [
    "recommendedMovies = unwatched_movies_rating.take(5)\n",
    "for r in recommendedMovies:\n",
    "    print(r['movieId'], r['title'], r['prediction'])\n",
    "\n"
   ]
  },
  {
   "cell_type": "code",
   "execution_count": null,
   "metadata": {},
   "outputs": [],
   "source": []
  }
 ],
 "metadata": {
  "kernelspec": {
   "display_name": "Python 3",
   "language": "python",
   "name": "python3"
  },
  "language_info": {
   "codemirror_mode": {
    "name": "ipython",
    "version": 3
   },
   "file_extension": ".py",
   "mimetype": "text/x-python",
   "name": "python",
   "nbconvert_exporter": "python",
   "pygments_lexer": "ipython3",
   "version": "3.7.3"
  }
 },
 "nbformat": 4,
 "nbformat_minor": 1
}
