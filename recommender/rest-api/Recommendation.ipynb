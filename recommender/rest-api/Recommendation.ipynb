{
 "cells": [
  {
   "cell_type": "code",
   "execution_count": 4,
   "metadata": {},
   "outputs": [
    {
     "name": "stdout",
     "output_type": "stream",
     "text": [
      "+-------+--------------------+--------------------+------+------+\n",
      "|movieId|               title|              genres|imdbId|tmdbId|\n",
      "+-------+--------------------+--------------------+------+------+\n",
      "|      1|    Toy Story (1995)|Adventure|Animati...|114709|   862|\n",
      "|      2|      Jumanji (1995)|Adventure|Childre...|113497|  8844|\n",
      "|      3|Grumpier Old Men ...|      Comedy|Romance|113228| 15602|\n",
      "|      4|Waiting to Exhale...|Comedy|Drama|Romance|114885| 31357|\n",
      "|      5|Father of the Bri...|              Comedy|113041| 11862|\n",
      "|      6|         Heat (1995)|Action|Crime|Thri...|113277|   949|\n",
      "|      7|      Sabrina (1995)|      Comedy|Romance|114319| 11860|\n",
      "|      8| Tom and Huck (1995)|  Adventure|Children|112302| 45325|\n",
      "|      9| Sudden Death (1995)|              Action|114576|  9091|\n",
      "|     10|    GoldenEye (1995)|Action|Adventure|...|113189|   710|\n",
      "|     11|American Presiden...|Comedy|Drama|Romance|112346|  9087|\n",
      "|     12|Dracula: Dead and...|       Comedy|Horror|112896| 12110|\n",
      "|     13|        Balto (1995)|Adventure|Animati...|112453| 21032|\n",
      "|     14|        Nixon (1995)|               Drama|113987| 10858|\n",
      "|     15|Cutthroat Island ...|Action|Adventure|...|112760|  1408|\n",
      "|     16|       Casino (1995)|         Crime|Drama|112641|   524|\n",
      "|     17|Sense and Sensibi...|       Drama|Romance|114388|  4584|\n",
      "|     18|   Four Rooms (1995)|              Comedy|113101|     5|\n",
      "|     19|Ace Ventura: When...|              Comedy|112281|  9273|\n",
      "|     20|  Money Train (1995)|Action|Comedy|Cri...|113845| 11517|\n",
      "+-------+--------------------+--------------------+------+------+\n",
      "only showing top 20 rows\n",
      "\n",
      "root\n",
      " |-- userId: integer (nullable = true)\n",
      " |-- movieId: integer (nullable = true)\n",
      " |-- rating: double (nullable = true)\n",
      " |-- timestamp: integer (nullable = true)\n",
      " |-- prediction: float (nullable = false)\n",
      "\n",
      "+------+-------+------+----------+----------+\n",
      "|userId|movieId|rating| timestamp|prediction|\n",
      "+------+-------+------+----------+----------+\n",
      "|   467|   2384|   2.0| 919671156|-3.5572166|\n",
      "|   146|   3991|   2.5|1312508163|-2.5040135|\n",
      "|   363| 168250|   4.0|1502584469|-2.2220926|\n",
      "|   544|     40|   5.0| 850688776|-2.1197698|\n",
      "|   176|    471|   5.0| 840109075|-2.0006058|\n",
      "|   430|   3754|   3.0| 963888437|-1.9086914|\n",
      "|    36|   3270|   1.5|1100803853|-1.8768086|\n",
      "|   329|   4789|   5.0|1523468218|-1.7161732|\n",
      "|   535|   2702|   4.0| 939029767|-1.6780152|\n",
      "|    14|    540|   3.0| 835441794|-1.6160537|\n",
      "+------+-------+------+----------+----------+\n",
      "only showing top 10 rows\n",
      "\n",
      "Root-mean-square error = 1.0847925269918446\n"
     ]
    }
   ],
   "source": [
    "from pyspark.sql import SparkSession\n",
    "from pyspark.sql.types import DoubleType\n",
    "from pyspark.ml.evaluation import RegressionEvaluator\n",
    "from pyspark.ml.recommendation import ALS\n",
    "\n",
    "spark = SparkSession.builder.appName(\"Recommendation ALS\").getOrCreate()\n",
    "\n",
    "# do something to prove it works\n",
    "movies_df = spark.read.option(\"header\", \"true\").csv(\"data/movies.csv\", inferSchema=True)\n",
    "links_df = spark.read.option(\"header\", \"true\").csv(\"data/links.csv\", inferSchema=True)\n",
    "movies_df = movies_df.join(links_df, on = ['movieId'])\n",
    "ratings_df = spark.read.option(\"header\", \"true\").csv(\"data/ratings.csv\", inferSchema=True)\n",
    "tags_df = spark.read.option(\"header\", \"true\").csv(\"data/tags.csv\", inferSchema=True)\n",
    "\n",
    "movies_df.show()\n",
    "\n",
    "(training, test) = ratings_df.randomSplit([0.8, 0.2])\n",
    "# Build the recommendation model using ALS on the training data\n",
    "# Note we set cold start strategy to 'drop' to ensure we don't get NaN evaluation metrics\n",
    "als = ALS(maxIter=5, regParam=0.01, userCol=\"userId\", itemCol=\"movieId\", ratingCol=\"rating\",\n",
    "          coldStartStrategy=\"drop\")\n",
    "model = als.fit(training)\n",
    "\n",
    "\n",
    "# Evaluate the model by computing the RMSE on the test data\n",
    "predictions = model.transform(test)\n",
    "predictions.printSchema()\n",
    "predictions.orderBy('prediction').show(10)\n",
    "evaluator = RegressionEvaluator(metricName=\"rmse\", labelCol=\"rating\",\n",
    "                                predictionCol=\"prediction\")\n",
    "rmse = evaluator.evaluate(predictions)\n",
    "print(\"Root-mean-square error = \" + str(rmse))"
   ]
  },
  {
   "cell_type": "markdown",
   "metadata": {},
   "source": [
    "Select the random userid, for example userid=1. Filter all movies that has not been watched by this user"
   ]
  },
  {
   "cell_type": "code",
   "execution_count": 33,
   "metadata": {},
   "outputs": [
    {
     "name": "stdout",
     "output_type": "stream",
     "text": [
      "Watch movies 232\n",
      "Total movies 9742\n"
     ]
    },
    {
     "data": {
      "text/plain": [
       "2259912"
      ]
     },
     "execution_count": 33,
     "metadata": {},
     "output_type": "execute_result"
    }
   ],
   "source": [
    "from pyspark.sql import SQLContext\n",
    "\n",
    "userId = 1\n",
    "watched_movies = ratings_df.filter(ratings_df['userId'] == userId).select(\"movieId\")\n",
    "\n",
    "print(\"Watch movies {}\".format(watched_movies.count()))\n",
    "print(\"Total movies {}\".format(movies_df.count()))\n",
    "\n",
    "sqlContext = SQLContext(spark.sparkContext)\n",
    "watched_movies.registerTempTable('watchedMovies')\n",
    "movies_df.registerTempTable(\"movies\")\n",
    "\n",
    "unwatched_movies = sqlContext.sql(\"SELECT * FROM movies LEFT OUTER JOIN watchedMovies ON movies.movieId != watchedMovies.movieId\")\n",
    "unwatched_movies.count()"
   ]
  },
  {
   "cell_type": "code",
   "execution_count": null,
   "metadata": {},
   "outputs": [],
   "source": []
  }
 ],
 "metadata": {
  "kernelspec": {
   "display_name": "Python 3",
   "language": "python",
   "name": "python3"
  },
  "language_info": {
   "codemirror_mode": {
    "name": "ipython",
    "version": 3
   },
   "file_extension": ".py",
   "mimetype": "text/x-python",
   "name": "python",
   "nbconvert_exporter": "python",
   "pygments_lexer": "ipython3",
   "version": "3.7.3"
  }
 },
 "nbformat": 4,
 "nbformat_minor": 1
}
